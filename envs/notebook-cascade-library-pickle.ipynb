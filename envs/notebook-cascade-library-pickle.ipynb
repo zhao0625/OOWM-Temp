{
 "cells": [
  {
   "cell_type": "code",
   "execution_count": 1,
   "metadata": {
    "collapsed": true,
    "pycharm": {
     "name": "#%%\n"
    }
   },
   "outputs": [],
   "source": [
    "%load_ext autoreload\n",
    "%autoreload 2"
   ]
  },
  {
   "cell_type": "code",
   "execution_count": 2,
   "outputs": [
    {
     "name": "stdout",
     "output_type": "stream",
     "text": [
      "/mnt/Z-LabData-6T/zlf-nfs-hdd/projects/2020-OORL/ObjectOrientedRL\n"
     ]
    }
   ],
   "source": [
    "%cd '/mnt/Z-LabData-6T/zlf-nfs-hdd/projects/2020-OORL/ObjectOrientedRL'"
   ],
   "metadata": {
    "collapsed": false,
    "pycharm": {
     "name": "#%%\n"
    }
   }
  },
  {
   "cell_type": "code",
   "execution_count": 3,
   "outputs": [],
   "source": [
    "%matplotlib inline\n",
    "import matplotlib.pyplot as plt"
   ],
   "metadata": {
    "collapsed": false,
    "pycharm": {
     "name": "#%%\n"
    }
   }
  },
  {
   "cell_type": "code",
   "execution_count": 4,
   "outputs": [],
   "source": [
    "from envs.object_library_block_pushing import get_cascade_library"
   ],
   "metadata": {
    "collapsed": false,
    "pycharm": {
     "name": "#%%\n"
    }
   }
  },
  {
   "cell_type": "code",
   "execution_count": 13,
   "outputs": [],
   "source": [
    "from envs.object_library_block_pushing import load_env_library, save_env_library"
   ],
   "metadata": {
    "collapsed": false,
    "pycharm": {
     "name": "#%%\n"
    }
   }
  },
  {
   "cell_type": "markdown",
   "source": [
    "# test save and then load"
   ],
   "metadata": {
    "collapsed": false,
    "pycharm": {
     "name": "#%% md\n"
    }
   }
  },
  {
   "cell_type": "code",
   "execution_count": 7,
   "outputs": [
    {
     "name": "stdout",
     "output_type": "stream",
     "text": [
      "[#objects in scene] K = 3 [#objects in library] N = 6\n",
      "> Num of training config: 4, Num of eval config: 4\n",
      "> Num of all config: 8, Num of max possible config: 8\n",
      "> Training/Eval config: [(0, 2, 3), (0, 3, 5), (1, 2, 3), (1, 4, 5)] [(0, 1, 3), (1, 2, 4), (2, 3, 4), (0, 2, 4)]\n",
      "> Training/Eval config: [(0, 2, 3), (0, 3, 5), (1, 2, 3), (1, 4, 5)] [(0, 1, 3), (1, 2, 4), (2, 3, 4), (0, 2, 4)]\n",
      "[#objects in scene] K = 3 [#objects in library] N = 8\n",
      "> Num of training config: 4, Num of eval config: 4\n",
      "> Num of all config: 8, Num of max possible config: 8\n",
      "> Training/Eval config: [(2, 3, 5), (2, 4, 7), (0, 5, 7), (1, 3, 5)] [(1, 6, 7), (3, 5, 6), (0, 3, 6), (0, 2, 4)]\n",
      "> Warning: not covering all objects in training config; regenerate\n",
      "> Covered objects {0, 1, 2, 3, 4, 5, 7}\n",
      "> Num of training config: 4, Num of eval config: 4\n",
      "> Num of all config: 8, Num of max possible config: 8\n",
      "> Warning: not covering all objects in training config; regenerate\n",
      "> Covered objects {0, 1, 3, 4, 5, 6, 7}\n",
      "> Num of training config: 4, Num of eval config: 4\n",
      "> Num of all config: 8, Num of max possible config: 8\n",
      "> Warning: not covering all objects in training config; regenerate\n",
      "> Covered objects {0, 1, 2, 3, 4, 6, 7}\n",
      "> Num of training config: 4, Num of eval config: 4\n",
      "> Num of all config: 8, Num of max possible config: 8\n",
      "> Warning: not covering all objects in training config; regenerate\n",
      "> Covered objects {0, 1, 2, 3, 4, 7}\n",
      "> Num of training config: 4, Num of eval config: 4\n",
      "> Num of all config: 8, Num of max possible config: 8\n",
      "> Warning: not covering all objects in training config; regenerate\n",
      "> Covered objects {0, 1, 3, 4, 5, 6, 7}\n",
      "> Num of training config: 4, Num of eval config: 4\n",
      "> Num of all config: 8, Num of max possible config: 8\n",
      "> Training/Eval config: [(3, 4, 6), (0, 1, 2), (1, 2, 3), (0, 5, 7)] [(1, 3, 5), (1, 2, 4), (4, 5, 6), (0, 1, 5)]\n",
      "[#objects in scene] K = 3 [#objects in library] N = 10\n",
      "> Num of training config: 4, Num of eval config: 4\n",
      "> Num of all config: 8, Num of max possible config: 8\n",
      "> Training/Eval config: [(3, 4, 6), (1, 2, 8), (0, 2, 9), (5, 8, 9)] [(5, 6, 8), (2, 4, 5), (3, 6, 9), (2, 5, 7)]\n",
      "> Warning: not covering all objects in training config; regenerate\n",
      "> Covered objects {0, 1, 2, 3, 4, 5, 6, 8, 9}\n",
      "> Num of training config: 4, Num of eval config: 4\n",
      "> Num of all config: 8, Num of max possible config: 8\n",
      "> Warning: not covering all objects in training config; regenerate\n",
      "> Covered objects {0, 1, 2, 3, 4, 5, 6, 7, 8}\n",
      "> Num of training config: 4, Num of eval config: 4\n",
      "> Num of all config: 8, Num of max possible config: 8\n",
      "> Warning: not covering all objects in training config; regenerate\n",
      "> Covered objects {0, 1, 2, 4, 5, 6, 7, 9}\n",
      "> Num of training config: 4, Num of eval config: 4\n",
      "> Num of all config: 8, Num of max possible config: 8\n",
      "> Warning: not covering all objects in training config; regenerate\n",
      "> Covered objects {0, 1, 2, 3, 5, 6, 8}\n",
      "> Num of training config: 4, Num of eval config: 4\n",
      "> Num of all config: 8, Num of max possible config: 8\n",
      "> Warning: not covering all objects in training config; regenerate\n",
      "> Covered objects {1, 2, 3, 4, 5, 7, 9}\n",
      "> Num of training config: 4, Num of eval config: 4\n",
      "> Num of all config: 8, Num of max possible config: 8\n",
      "> Warning: not covering all objects in training config; regenerate\n",
      "> Covered objects {0, 1, 2, 3, 4, 6, 7, 8}\n",
      "> Num of training config: 4, Num of eval config: 4\n",
      "> Num of all config: 8, Num of max possible config: 8\n",
      "> Warning: not covering all objects in training config; regenerate\n",
      "> Covered objects {0, 2, 3, 4, 5, 6, 7, 8, 9}\n",
      "> Num of training config: 4, Num of eval config: 4\n",
      "> Num of all config: 8, Num of max possible config: 8\n",
      "> Warning: not covering all objects in training config; regenerate\n",
      "> Covered objects {0, 1, 3, 5, 6, 7, 8, 9}\n",
      "> Num of training config: 4, Num of eval config: 4\n",
      "> Num of all config: 8, Num of max possible config: 8\n",
      "> Warning: not covering all objects in training config; regenerate\n",
      "> Covered objects {0, 1, 2, 4, 5, 6, 8, 9}\n",
      "> Num of training config: 4, Num of eval config: 4\n",
      "> Num of all config: 8, Num of max possible config: 8\n",
      "> Warning: not covering all objects in training config; regenerate\n",
      "> Covered objects {0, 3, 4, 5, 6, 8, 9}\n",
      "> Num of training config: 4, Num of eval config: 4\n",
      "> Num of all config: 8, Num of max possible config: 8\n",
      "> Training/Eval config: [(1, 2, 6), (3, 4, 7), (0, 5, 6), (6, 8, 9)] [(1, 6, 7), (3, 4, 5), (4, 5, 6), (0, 4, 6)]\n",
      "> Extra kwargs: dict_keys([])\n",
      "> Extra kwargs: dict_keys([])\n",
      "> Extra kwargs: dict_keys([])\n",
      "> Extra kwargs: dict_keys([])\n",
      "> Extra kwargs: dict_keys([])\n",
      "> Extra kwargs: dict_keys([])\n"
     ]
    }
   ],
   "source": [
    "cascade_env_dict, cascade_pool_dict = get_cascade_library(\n",
    "    num_objects_scene=3,\n",
    "    num_objects_total_list=[6, 8, 10],\n",
    "    num_config_eval=4,\n",
    "    num_config_train=4,\n",
    ")"
   ],
   "metadata": {
    "collapsed": false,
    "pycharm": {
     "name": "#%%\n"
    }
   }
  },
  {
   "cell_type": "markdown",
   "source": [
    "# vis all objects"
   ],
   "metadata": {
    "collapsed": false
   }
  },
  {
   "cell_type": "code",
   "execution_count": 8,
   "outputs": [
    {
     "name": "stdout",
     "output_type": "stream",
     "text": [
      "> id <-> positions: [0, 1, 2, 3, 4, 5, 6, 7] [(0, 0), (1, 0), (2, 0), (3, 0), (4, 0), (5, 0), (6, 0), (7, 0)]\n"
     ]
    },
    {
     "data": {
      "text/plain": "<matplotlib.image.AxesImage at 0x7ff9500f9210>"
     },
     "execution_count": 8,
     "metadata": {},
     "output_type": "execute_result"
    },
    {
     "data": {
      "text/plain": "<Figure size 432x288 with 1 Axes>",
      "image/png": "[encoded data removed]"
     },
     "metadata": {
      "needs_background": "light"
     },
     "output_type": "display_data"
    }
   ],
   "source": [
    "%matplotlib inline\n",
    "plt.imshow(cascade_env_dict[8]['train'].object_library.render_all('column').transpose(1, 2, 0))"
   ],
   "metadata": {
    "collapsed": false,
    "pycharm": {
     "name": "#%%\n"
    }
   }
  },
  {
   "cell_type": "code",
   "execution_count": 9,
   "outputs": [
    {
     "name": "stdout",
     "output_type": "stream",
     "text": [
      "> id <-> positions: [0, 1, 2, 3, 4, 5, 6, 7, 8, 9] [(0, 0), (1, 0), (2, 0), (3, 0), (4, 0), (5, 0), (6, 0), (7, 0), (8, 0), (9, 0)]\n"
     ]
    },
    {
     "data": {
      "text/plain": "<matplotlib.image.AxesImage at 0x7ff94fff59d0>"
     },
     "execution_count": 9,
     "metadata": {},
     "output_type": "execute_result"
    },
    {
     "data": {
      "text/plain": "<Figure size 432x288 with 1 Axes>",
      "image/png": "[encoded data removed]"
     },
     "metadata": {
      "needs_background": "light"
     },
     "output_type": "display_data"
    }
   ],
   "source": [
    "%matplotlib inline\n",
    "plt.imshow(cascade_env_dict[10]['train'].object_library.render_all('column').transpose(1, 2, 0))"
   ],
   "metadata": {
    "collapsed": false,
    "pycharm": {
     "name": "#%%\n"
    }
   }
  },
  {
   "cell_type": "code",
   "execution_count": 10,
   "outputs": [],
   "source": [
    "save_env_library(env_dict=cascade_env_dict, pool_dict=cascade_pool_dict, path='./Data/debug-library.pickle')"
   ],
   "metadata": {
    "collapsed": false,
    "pycharm": {
     "name": "#%%\n"
    }
   }
  },
  {
   "cell_type": "markdown",
   "source": [
    "# load again and test"
   ],
   "metadata": {
    "collapsed": false,
    "pycharm": {
     "name": "#%% md\n"
    }
   }
  },
  {
   "cell_type": "code",
   "execution_count": 15,
   "outputs": [],
   "source": [
    "cascade_env_dict_load, cascade_pool_dict_load = load_env_library('./Data/debug-library.pickle')"
   ],
   "metadata": {
    "collapsed": false,
    "pycharm": {
     "name": "#%%\n"
    }
   }
  },
  {
   "cell_type": "code",
   "execution_count": 16,
   "outputs": [
    {
     "name": "stdout",
     "output_type": "stream",
     "text": [
      "> id <-> positions: [0, 1, 2, 3, 4, 5, 6, 7, 8, 9] [(0, 0), (1, 0), (2, 0), (3, 0), (4, 0), (5, 0), (6, 0), (7, 0), (8, 0), (9, 0)]\n"
     ]
    },
    {
     "data": {
      "text/plain": "<matplotlib.image.AxesImage at 0x7ff94fefa150>"
     },
     "execution_count": 16,
     "metadata": {},
     "output_type": "execute_result"
    },
    {
     "data": {
      "text/plain": "<Figure size 432x288 with 1 Axes>",
      "image/png": "[encoded data removed]"
     },
     "metadata": {
      "needs_background": "light"
     },
     "output_type": "display_data"
    }
   ],
   "source": [
    "%matplotlib inline\n",
    "plt.imshow(cascade_env_dict_load[10]['train'].object_library.render_all('column').transpose(1, 2, 0))"
   ],
   "metadata": {
    "collapsed": false,
    "pycharm": {
     "name": "#%%\n"
    }
   }
  },
  {
   "cell_type": "markdown",
   "source": [
    "# get new library using loaded pool"
   ],
   "metadata": {
    "collapsed": false,
    "pycharm": {
     "name": "#%% md\n"
    }
   }
  },
  {
   "cell_type": "code",
   "execution_count": 18,
   "outputs": [
    {
     "name": "stdout",
     "output_type": "stream",
     "text": [
      "[#objects in scene] K = 3 [#objects in library] N = 6\n",
      "> Num of training config: 4, Num of eval config: 2\n",
      "> Num of all config: 6, Num of max possible config: 6\n",
      "> Training/Eval config: [(0, 4, 5), (0, 3, 4), (0, 2, 3), (1, 4, 5)] [(2, 4, 5), (2, 3, 4)]\n",
      "> Training/Eval config: [(0, 4, 5), (0, 3, 4), (0, 2, 3), (1, 4, 5)] [(2, 4, 5), (2, 3, 4)]\n",
      "[#objects in scene] K = 3 [#objects in library] N = 8\n",
      "> Num of training config: 4, Num of eval config: 2\n",
      "> Num of all config: 6, Num of max possible config: 6\n",
      "> Training/Eval config: [(5, 6, 7), (0, 2, 6), (0, 1, 3), (1, 4, 5)] [(1, 2, 3), (2, 5, 7)]\n",
      "> Training/Eval config: [(5, 6, 7), (0, 2, 6), (0, 1, 3), (1, 4, 5)] [(1, 2, 3), (2, 5, 7)]\n",
      "[#objects in scene] K = 3 [#objects in library] N = 10\n",
      "> Num of training config: 4, Num of eval config: 2\n",
      "> Num of all config: 6, Num of max possible config: 6\n",
      "> Training/Eval config: [(4, 5, 8), (5, 7, 8), (3, 6, 8), (0, 3, 9)] [(3, 5, 9), (3, 8, 9)]\n",
      "> Warning: not covering all objects in training config; regenerate\n",
      "> Covered objects {0, 3, 4, 5, 6, 7, 8, 9}\n",
      "> Num of training config: 4, Num of eval config: 2\n",
      "> Num of all config: 6, Num of max possible config: 6\n",
      "> Warning: not covering all objects in training config; regenerate\n",
      "> Covered objects {0, 2, 3, 4, 5, 8, 9}\n",
      "> Num of training config: 4, Num of eval config: 2\n",
      "> Num of all config: 6, Num of max possible config: 6\n",
      "> Warning: not covering all objects in training config; regenerate\n",
      "> Covered objects {1, 2, 5, 6, 7, 8, 9}\n",
      "> Num of training config: 4, Num of eval config: 2\n",
      "> Num of all config: 6, Num of max possible config: 6\n",
      "> Warning: not covering all objects in training config; regenerate\n",
      "> Covered objects {1, 2, 3, 5, 6, 7, 8}\n",
      "> Num of training config: 4, Num of eval config: 2\n",
      "> Num of all config: 6, Num of max possible config: 6\n",
      "> Warning: not covering all objects in training config; regenerate\n",
      "> Covered objects {1, 2, 3, 4, 6, 7, 8}\n",
      "> Num of training config: 4, Num of eval config: 2\n",
      "> Num of all config: 6, Num of max possible config: 6\n",
      "> Warning: not covering all objects in training config; regenerate\n",
      "> Covered objects {0, 1, 2, 3, 4, 5, 6, 8}\n",
      "> Num of training config: 4, Num of eval config: 2\n",
      "> Num of all config: 6, Num of max possible config: 6\n",
      "> Warning: not covering all objects in training config; regenerate\n",
      "> Covered objects {0, 1, 2, 4, 5, 6, 7, 8}\n",
      "> Num of training config: 4, Num of eval config: 2\n",
      "> Num of all config: 6, Num of max possible config: 6\n",
      "> Warning: not covering all objects in training config; regenerate\n",
      "> Covered objects {0, 1, 2, 3, 4, 6, 7, 8, 9}\n",
      "> Num of training config: 4, Num of eval config: 2\n",
      "> Num of all config: 6, Num of max possible config: 6\n",
      "> Warning: not covering all objects in training config; regenerate\n",
      "> Covered objects {2, 3, 4, 6, 7, 8, 9}\n",
      "> Num of training config: 4, Num of eval config: 2\n",
      "> Num of all config: 6, Num of max possible config: 6\n",
      "> Warning: not covering all objects in training config; regenerate\n",
      "> Covered objects {0, 2, 4, 5, 6, 7, 8, 9}\n",
      "> Num of training config: 4, Num of eval config: 2\n",
      "> Num of all config: 6, Num of max possible config: 6\n",
      "> Warning: not covering all objects in training config; regenerate\n",
      "> Covered objects {0, 1, 3, 4, 5, 6, 7}\n",
      "> Num of training config: 4, Num of eval config: 2\n",
      "> Num of all config: 6, Num of max possible config: 6\n",
      "> Warning: not covering all objects in training config; regenerate\n",
      "> Covered objects {0, 2, 3, 4, 5, 6, 8, 9}\n",
      "> Num of training config: 4, Num of eval config: 2\n",
      "> Num of all config: 6, Num of max possible config: 6\n",
      "> Warning: not covering all objects in training config; regenerate\n",
      "> Covered objects {0, 1, 2, 3, 4, 5, 7, 9}\n",
      "> Num of training config: 4, Num of eval config: 2\n",
      "> Num of all config: 6, Num of max possible config: 6\n",
      "> Warning: not covering all objects in training config; regenerate\n",
      "> Covered objects {0, 1, 2, 3, 4, 5, 6, 7}\n",
      "> Num of training config: 4, Num of eval config: 2\n",
      "> Num of all config: 6, Num of max possible config: 6\n",
      "> Warning: not covering all objects in training config; regenerate\n",
      "> Covered objects {0, 1, 2, 4, 5, 6, 7, 9}\n",
      "> Num of training config: 4, Num of eval config: 2\n",
      "> Num of all config: 6, Num of max possible config: 6\n",
      "> Warning: not covering all objects in training config; regenerate\n",
      "> Covered objects {1, 2, 3, 4, 6, 7, 9}\n",
      "> Num of training config: 4, Num of eval config: 2\n",
      "> Num of all config: 6, Num of max possible config: 6\n",
      "> Warning: not covering all objects in training config; regenerate\n",
      "> Covered objects {0, 2, 3, 4, 5, 6, 7, 9}\n",
      "> Num of training config: 4, Num of eval config: 2\n",
      "> Num of all config: 6, Num of max possible config: 6\n",
      "> Warning: not covering all objects in training config; regenerate\n",
      "> Covered objects {0, 1, 4, 6, 7, 9}\n",
      "> Num of training config: 4, Num of eval config: 2\n",
      "> Num of all config: 6, Num of max possible config: 6\n",
      "> Warning: not covering all objects in training config; regenerate\n",
      "> Covered objects {0, 1, 2, 3, 4, 5, 6, 7}\n",
      "> Num of training config: 4, Num of eval config: 2\n",
      "> Num of all config: 6, Num of max possible config: 6\n",
      "> Warning: not covering all objects in training config; regenerate\n",
      "> Covered objects {0, 2, 4, 5, 6, 7, 8, 9}\n",
      "> Num of training config: 4, Num of eval config: 2\n",
      "> Num of all config: 6, Num of max possible config: 6\n",
      "> Warning: not covering all objects in training config; regenerate\n",
      "> Covered objects {0, 1, 2, 3, 6, 7, 8, 9}\n",
      "> Num of training config: 4, Num of eval config: 2\n",
      "> Num of all config: 6, Num of max possible config: 6\n",
      "> Warning: not covering all objects in training config; regenerate\n",
      "> Covered objects {0, 1, 2, 5, 7, 8, 9}\n",
      "> Num of training config: 4, Num of eval config: 2\n",
      "> Num of all config: 6, Num of max possible config: 6\n",
      "> Warning: not covering all objects in training config; regenerate\n",
      "> Covered objects {0, 1, 2, 4, 5, 6, 7, 8, 9}\n",
      "> Num of training config: 4, Num of eval config: 2\n",
      "> Num of all config: 6, Num of max possible config: 6\n",
      "> Warning: not covering all objects in training config; regenerate\n",
      "> Covered objects {0, 1, 2, 3, 4, 6, 7, 9}\n",
      "> Num of training config: 4, Num of eval config: 2\n",
      "> Num of all config: 6, Num of max possible config: 6\n",
      "> Warning: not covering all objects in training config; regenerate\n",
      "> Covered objects {0, 1, 2, 3, 7, 8, 9}\n",
      "> Num of training config: 4, Num of eval config: 2\n",
      "> Num of all config: 6, Num of max possible config: 6\n",
      "> Warning: not covering all objects in training config; regenerate\n",
      "> Covered objects {1, 2, 3, 4, 6, 7, 8, 9}\n",
      "> Num of training config: 4, Num of eval config: 2\n",
      "> Num of all config: 6, Num of max possible config: 6\n",
      "> Warning: not covering all objects in training config; regenerate\n",
      "> Covered objects {1, 2, 3, 4, 6, 7, 8, 9}\n",
      "> Num of training config: 4, Num of eval config: 2\n",
      "> Num of all config: 6, Num of max possible config: 6\n",
      "> Warning: not covering all objects in training config; regenerate\n",
      "> Covered objects {0, 1, 2, 4, 6, 7, 8, 9}\n",
      "> Num of training config: 4, Num of eval config: 2\n",
      "> Num of all config: 6, Num of max possible config: 6\n",
      "> Warning: not covering all objects in training config; regenerate\n",
      "> Covered objects {2, 3, 4, 6, 7, 8, 9}\n",
      "> Num of training config: 4, Num of eval config: 2\n",
      "> Num of all config: 6, Num of max possible config: 6\n",
      "> Warning: not covering all objects in training config; regenerate\n",
      "> Covered objects {0, 3, 4, 5, 6, 7}\n",
      "> Num of training config: 4, Num of eval config: 2\n",
      "> Num of all config: 6, Num of max possible config: 6\n",
      "> Warning: not covering all objects in training config; regenerate\n",
      "> Covered objects {0, 1, 4, 5, 7, 8, 9}\n",
      "> Num of training config: 4, Num of eval config: 2\n",
      "> Num of all config: 6, Num of max possible config: 6\n",
      "> Warning: not covering all objects in training config; regenerate\n",
      "> Covered objects {0, 2, 3, 4, 5, 6, 7, 9}\n",
      "> Num of training config: 4, Num of eval config: 2\n",
      "> Num of all config: 6, Num of max possible config: 6\n",
      "> Warning: not covering all objects in training config; regenerate\n",
      "> Covered objects {0, 1, 2, 4, 6, 7, 8}\n",
      "> Num of training config: 4, Num of eval config: 2\n",
      "> Num of all config: 6, Num of max possible config: 6\n",
      "> Warning: not covering all objects in training config; regenerate\n",
      "> Covered objects {0, 1, 2, 3, 4, 5, 6, 9}\n",
      "> Num of training config: 4, Num of eval config: 2\n",
      "> Num of all config: 6, Num of max possible config: 6\n",
      "> Warning: not covering all objects in training config; regenerate\n",
      "> Covered objects {0, 1, 2, 3, 4, 5, 9}\n",
      "> Num of training config: 4, Num of eval config: 2\n",
      "> Num of all config: 6, Num of max possible config: 6\n",
      "> Warning: not covering all objects in training config; regenerate\n",
      "> Covered objects {2, 3, 4, 6, 7, 8, 9}\n",
      "> Num of training config: 4, Num of eval config: 2\n",
      "> Num of all config: 6, Num of max possible config: 6\n",
      "> Warning: not covering all objects in training config; regenerate\n",
      "> Covered objects {1, 2, 4, 5, 6, 7, 8}\n",
      "> Num of training config: 4, Num of eval config: 2\n",
      "> Num of all config: 6, Num of max possible config: 6\n",
      "> Warning: not covering all objects in training config; regenerate\n",
      "> Covered objects {0, 1, 2, 4, 5, 6, 7, 8, 9}\n",
      "> Num of training config: 4, Num of eval config: 2\n",
      "> Num of all config: 6, Num of max possible config: 6\n",
      "> Warning: not covering all objects in training config; regenerate\n",
      "> Covered objects {0, 2, 4, 5, 6, 7, 8}\n",
      "> Num of training config: 4, Num of eval config: 2\n",
      "> Num of all config: 6, Num of max possible config: 6\n",
      "> Warning: not covering all objects in training config; regenerate\n",
      "> Covered objects {0, 1, 2, 3, 7, 8, 9}\n",
      "> Num of training config: 4, Num of eval config: 2\n",
      "> Num of all config: 6, Num of max possible config: 6\n",
      "> Warning: not covering all objects in training config; regenerate\n",
      "> Covered objects {0, 1, 4, 5, 6, 7, 8}\n",
      "> Num of training config: 4, Num of eval config: 2\n",
      "> Num of all config: 6, Num of max possible config: 6\n",
      "> Warning: not covering all objects in training config; regenerate\n",
      "> Covered objects {1, 3, 5, 6, 7, 9}\n",
      "> Num of training config: 4, Num of eval config: 2\n",
      "> Num of all config: 6, Num of max possible config: 6\n",
      "> Warning: not covering all objects in training config; regenerate\n",
      "> Covered objects {1, 2, 3, 6, 7, 8, 9}\n",
      "> Num of training config: 4, Num of eval config: 2\n",
      "> Num of all config: 6, Num of max possible config: 6\n",
      "> Warning: not covering all objects in training config; regenerate\n",
      "> Covered objects {0, 1, 2, 4, 5, 6, 7, 9}\n",
      "> Num of training config: 4, Num of eval config: 2\n",
      "> Num of all config: 6, Num of max possible config: 6\n",
      "> Warning: not covering all objects in training config; regenerate\n",
      "> Covered objects {0, 1, 3, 5, 6, 7, 8, 9}\n",
      "> Num of training config: 4, Num of eval config: 2\n",
      "> Num of all config: 6, Num of max possible config: 6\n",
      "> Warning: not covering all objects in training config; regenerate\n",
      "> Covered objects {0, 1, 2, 3, 5, 7, 8}\n",
      "> Num of training config: 4, Num of eval config: 2\n",
      "> Num of all config: 6, Num of max possible config: 6\n",
      "> Warning: not covering all objects in training config; regenerate\n",
      "> Covered objects {1, 2, 4, 5, 6, 7, 8, 9}\n",
      "> Num of training config: 4, Num of eval config: 2\n",
      "> Num of all config: 6, Num of max possible config: 6\n",
      "> Training/Eval config: [(0, 2, 9), (4, 5, 7), (1, 6, 7), (3, 6, 8)] [(1, 2, 4), (0, 2, 4)]\n",
      "> Extra kwargs: dict_keys([])\n",
      "> Extra kwargs: dict_keys([])\n",
      "> Extra kwargs: dict_keys([])\n",
      "> Extra kwargs: dict_keys([])\n",
      "> Extra kwargs: dict_keys([])\n",
      "> Extra kwargs: dict_keys([])\n"
     ]
    }
   ],
   "source": [
    "cascade_env_dict_from_pool, _ = get_cascade_library(\n",
    "    num_objects_scene=3,\n",
    "    num_objects_total_list=[6, 8, 10],\n",
    "    num_config_eval=2,\n",
    "    num_config_train=4,\n",
    "    input_pool_dict=cascade_pool_dict_load\n",
    ")"
   ],
   "metadata": {
    "collapsed": false,
    "pycharm": {
     "name": "#%%\n"
    }
   }
  },
  {
   "cell_type": "markdown",
   "source": [
    "# test actions"
   ],
   "metadata": {
    "collapsed": false,
    "pycharm": {
     "name": "#%% md\n"
    }
   }
  },
  {
   "cell_type": "code",
   "execution_count": 20,
   "outputs": [
    {
     "name": "stdout",
     "output_type": "stream",
     "text": [
      "{'action': 0, 'lib-absolute-action': 0, 'lib-relative-action': 0, 'mapped-action': 0, 'unmapped-action': 0, 'object': 0, 'mapped-object': 0, 'obj-action-id': 0, 'obj-action-str': 'up', 'abs-direction': 0, 'abs-direction-str': 'north', 'moved': True}\n"
     ]
    },
    {
     "data": {
      "text/plain": "<Figure size 432x288 with 1 Axes>",
      "image/png": "[encoded data removed]"
     },
     "metadata": {
      "needs_background": "light"
     },
     "output_type": "display_data"
    },
    {
     "name": "stdout",
     "output_type": "stream",
     "text": [
      "{'action': 1, 'lib-absolute-action': 1, 'lib-relative-action': 1, 'mapped-action': 1, 'unmapped-action': 1, 'object': 0, 'mapped-object': 0, 'obj-action-id': 1, 'obj-action-str': 'right', 'abs-direction': 1, 'abs-direction-str': 'east', 'moved': True}\n"
     ]
    },
    {
     "data": {
      "text/plain": "<Figure size 432x288 with 1 Axes>",
      "image/png": "[encoded data removed]"
     },
     "metadata": {
      "needs_background": "light"
     },
     "output_type": "display_data"
    },
    {
     "name": "stdout",
     "output_type": "stream",
     "text": [
      "{'action': 2, 'lib-absolute-action': 2, 'lib-relative-action': 2, 'mapped-action': 2, 'unmapped-action': 2, 'object': 0, 'mapped-object': 0, 'obj-action-id': 2, 'obj-action-str': 'down', 'abs-direction': 2, 'abs-direction-str': 'south', 'moved': True}\n"
     ]
    },
    {
     "data": {
      "text/plain": "<Figure size 432x288 with 1 Axes>",
      "image/png": "[encoded data removed]"
     },
     "metadata": {
      "needs_background": "light"
     },
     "output_type": "display_data"
    },
    {
     "name": "stdout",
     "output_type": "stream",
     "text": [
      "{'action': 3, 'lib-absolute-action': 3, 'lib-relative-action': 3, 'mapped-action': 3, 'unmapped-action': 3, 'object': 0, 'mapped-object': 0, 'obj-action-id': 3, 'obj-action-str': 'left', 'abs-direction': 3, 'abs-direction-str': 'west', 'moved': True}\n"
     ]
    },
    {
     "data": {
      "text/plain": "<Figure size 432x288 with 1 Axes>",
      "image/png": "[encoded data removed]"
     },
     "metadata": {
      "needs_background": "light"
     },
     "output_type": "display_data"
    }
   ],
   "source": [
    "%matplotlib inline\n",
    "for i in range(4):\n",
    "    # obs, _, _, info = env_rh.sample_step(filter_moving_prob=1.0)\n",
    "    obs, _, _, info = cascade_env_dict[6]['train'].step(i)\n",
    "    plt.imshow(obs[1].transpose(1, 2, 0))\n",
    "    print(info)\n",
    "    plt.show()"
   ],
   "metadata": {
    "collapsed": false,
    "pycharm": {
     "name": "#%%\n"
    }
   }
  },
  {
   "cell_type": "code",
   "execution_count": 21,
   "outputs": [
    {
     "name": "stdout",
     "output_type": "stream",
     "text": [
      "{'action': 12, 'lib-absolute-action': 12, 'lib-relative-action': 12, 'mapped-action': 12, 'unmapped-action': 0, 'object': 0, 'mapped-object': 3, 'obj-action-id': 0, 'obj-action-str': 'up', 'abs-direction': 0, 'abs-direction-str': 'north', 'moved': True}\n"
     ]
    },
    {
     "data": {
      "text/plain": "<Figure size 432x288 with 1 Axes>",
      "image/png": "[encoded data removed]"
     },
     "metadata": {
      "needs_background": "light"
     },
     "output_type": "display_data"
    },
    {
     "name": "stdout",
     "output_type": "stream",
     "text": [
      "{'action': 13, 'lib-absolute-action': 13, 'lib-relative-action': 13, 'mapped-action': 13, 'unmapped-action': 1, 'object': 0, 'mapped-object': 3, 'obj-action-id': 1, 'obj-action-str': 'right', 'abs-direction': 1, 'abs-direction-str': 'east', 'moved': True}\n"
     ]
    },
    {
     "data": {
      "text/plain": "<Figure size 432x288 with 1 Axes>",
      "image/png": "[encoded data removed]"
     },
     "metadata": {
      "needs_background": "light"
     },
     "output_type": "display_data"
    },
    {
     "name": "stdout",
     "output_type": "stream",
     "text": [
      "{'action': 14, 'lib-absolute-action': 14, 'lib-relative-action': 14, 'mapped-action': 14, 'unmapped-action': 2, 'object': 0, 'mapped-object': 3, 'obj-action-id': 2, 'obj-action-str': 'down', 'abs-direction': 2, 'abs-direction-str': 'south', 'moved': True}\n"
     ]
    },
    {
     "data": {
      "text/plain": "<Figure size 432x288 with 1 Axes>",
      "image/png": "[encoded data removed]"
     },
     "metadata": {
      "needs_background": "light"
     },
     "output_type": "display_data"
    },
    {
     "name": "stdout",
     "output_type": "stream",
     "text": [
      "{'action': 15, 'lib-absolute-action': 15, 'lib-relative-action': 15, 'mapped-action': 15, 'unmapped-action': 3, 'object': 0, 'mapped-object': 3, 'obj-action-id': 3, 'obj-action-str': 'left', 'abs-direction': 3, 'abs-direction-str': 'west', 'moved': True}\n"
     ]
    },
    {
     "data": {
      "text/plain": "<Figure size 432x288 with 1 Axes>",
      "image/png": "[encoded data removed]"
     },
     "metadata": {
      "needs_background": "light"
     },
     "output_type": "display_data"
    }
   ],
   "source": [
    "%matplotlib inline\n",
    "for i in range(4):\n",
    "    # obs, _, _, info = env_rh.sample_step(filter_moving_prob=1.0)\n",
    "    obs, _, _, info = cascade_env_dict[8]['train'].step(i)\n",
    "    plt.imshow(obs[1].transpose(1, 2, 0))\n",
    "    print(info)\n",
    "    plt.show()"
   ],
   "metadata": {
    "collapsed": false,
    "pycharm": {
     "name": "#%%\n"
    }
   }
  },
  {
   "cell_type": "code",
   "execution_count": null,
   "outputs": [],
   "source": [],
   "metadata": {
    "collapsed": false,
    "pycharm": {
     "name": "#%%\n"
    }
   }
  }
 ],
 "metadata": {
  "kernelspec": {
   "display_name": "Python 3",
   "language": "python",
   "name": "python3"
  },
  "language_info": {
   "codemirror_mode": {
    "name": "ipython",
    "version": 2
   },
   "file_extension": ".py",
   "mimetype": "text/x-python",
   "name": "python",
   "nbconvert_exporter": "python",
   "pygments_lexer": "ipython2",
   "version": "2.7.6"
  }
 },
 "nbformat": 4,
 "nbformat_minor": 0
}