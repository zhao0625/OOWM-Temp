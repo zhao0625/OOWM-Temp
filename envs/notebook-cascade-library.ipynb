{
 "cells": [
  {
   "cell_type": "code",
   "execution_count": 3,
   "metadata": {
    "collapsed": true,
    "pycharm": {
     "name": "#%%\n"
    }
   },
   "outputs": [],
   "source": [
    "%load_ext autoreload\n",
    "%autoreload 2"
   ]
  },
  {
   "cell_type": "code",
   "execution_count": 4,
   "outputs": [
    {
     "name": "stdout",
     "output_type": "stream",
     "text": [
      "/mnt/Z-LabData-6T/zlf-nfs-hdd/projects/2020-OORL/ObjectOrientedRL\n"
     ]
    }
   ],
   "source": [
    "%cd '/mnt/Z-LabData-6T/zlf-nfs-hdd/projects/2020-OORL/ObjectOrientedRL'"
   ],
   "metadata": {
    "collapsed": false,
    "pycharm": {
     "name": "#%%\n"
    }
   }
  },
  {
   "cell_type": "code",
   "execution_count": 5,
   "outputs": [],
   "source": [
    "import numpy as np"
   ],
   "metadata": {
    "collapsed": false,
    "pycharm": {
     "name": "#%%\n"
    }
   }
  },
  {
   "cell_type": "code",
   "execution_count": 6,
   "outputs": [],
   "source": [
    "from envs.object_library_block_pushing import ObjectPool, ObjectLibrary"
   ],
   "metadata": {
    "collapsed": false,
    "pycharm": {
     "name": "#%%\n"
    }
   }
  },
  {
   "cell_type": "code",
   "execution_count": 7,
   "outputs": [],
   "source": [
    "%matplotlib inline\n",
    "import matplotlib.pyplot as plt"
   ],
   "metadata": {
    "collapsed": false,
    "pycharm": {
     "name": "#%%\n"
    }
   }
  },
  {
   "cell_type": "code",
   "execution_count": 8,
   "outputs": [],
   "source": [
    "from envs.object_library_block_pushing import get_cascade_library"
   ],
   "metadata": {
    "collapsed": false,
    "pycharm": {
     "name": "#%%\n"
    }
   }
  },
  {
   "cell_type": "markdown",
   "source": [
    "# test using N=K"
   ],
   "metadata": {
    "collapsed": false
   }
  },
  {
   "cell_type": "code",
   "execution_count": 10,
   "outputs": [
    {
     "name": "stdout",
     "output_type": "stream",
     "text": [
      "[#objects in scene] K = 5 [#objects in library] N = 5\n",
      "> Warning: setting N=K, returning the only config for training and eval.\n",
      "[#objects in scene] K = 5 [#objects in library] N = 10\n",
      "> Num of training config: 4, Num of eval config: 4\n",
      "> Num of all config: 8, Num of max possible config: 8\n",
      "> Training/Eval config: [(1, 3, 4, 6, 9), (0, 1, 2, 3, 8), (0, 1, 2, 4, 8), (0, 3, 6, 7, 8)] [(1, 2, 3, 6, 9), (2, 4, 6, 7, 8), (3, 5, 6, 7, 9), (0, 2, 3, 6, 8)]\n",
      "> Warning: not covering all objects in training config; regenerate\n",
      "> Covered objects {0, 1, 2, 3, 4, 6, 7, 8, 9}\n",
      "> Num of training config: 4, Num of eval config: 4\n",
      "> Num of all config: 8, Num of max possible config: 8\n",
      "> Training/Eval config: [(0, 1, 7, 8, 9), (1, 4, 6, 8, 9), (0, 3, 5, 6, 9), (0, 2, 3, 6, 7)] [(0, 1, 4, 6, 8), (4, 6, 7, 8, 9), (3, 5, 7, 8, 9), (0, 1, 5, 7, 9)]\n",
      "> Extra kwargs: dict_keys([])\n",
      "> Extra kwargs: dict_keys([])\n",
      "> Extra kwargs: dict_keys([])\n",
      "> Extra kwargs: dict_keys([])\n"
     ]
    }
   ],
   "source": [
    "cascade_env_dict_nk, cascade_pool_dict_nk = get_cascade_library(\n",
    "    num_objects_scene=5,\n",
    "    num_objects_total_list=[5, 10],\n",
    "    num_config_eval=4,\n",
    "    num_config_train=4,\n",
    ")"
   ],
   "metadata": {
    "collapsed": false,
    "pycharm": {
     "name": "#%%\n"
    }
   }
  },
  {
   "cell_type": "code",
   "execution_count": 21,
   "outputs": [
    {
     "name": "stdout",
     "output_type": "stream",
     "text": [
      "> id <-> positions: [0, 1, 2, 3, 4, 5, 6, 7, 8, 9] [(0, 0), (1, 0), (2, 0), (3, 0), (4, 0), (5, 0), (6, 0), (7, 0), (8, 0), (9, 0)]\n"
     ]
    },
    {
     "data": {
      "text/plain": "<matplotlib.image.AxesImage at 0x7f6489a4c7d0>"
     },
     "execution_count": 21,
     "metadata": {},
     "output_type": "execute_result"
    },
    {
     "data": {
      "text/plain": "<Figure size 432x288 with 1 Axes>",
      "image/png": "[encoded data removed]"
     },
     "metadata": {
      "needs_background": "light"
     },
     "output_type": "display_data"
    }
   ],
   "source": [
    "%matplotlib inline\n",
    "plt.imshow(cascade_env_dict_nk[10]['train'].object_library.render_all('column').transpose(1, 2, 0))"
   ],
   "metadata": {
    "collapsed": false,
    "pycharm": {
     "name": "#%%\n"
    }
   }
  },
  {
   "cell_type": "code",
   "execution_count": 22,
   "outputs": [
    {
     "name": "stdout",
     "output_type": "stream",
     "text": [
      "> id <-> positions: [0, 1, 2, 3, 4] [(0, 0), (1, 0), (2, 0), (3, 0), (4, 0)]\n"
     ]
    },
    {
     "data": {
      "text/plain": "<matplotlib.image.AxesImage at 0x7f64899bbc90>"
     },
     "execution_count": 22,
     "metadata": {},
     "output_type": "execute_result"
    },
    {
     "data": {
      "text/plain": "<Figure size 432x288 with 1 Axes>",
      "image/png": "[encoded data removed]"
     },
     "metadata": {
      "needs_background": "light"
     },
     "output_type": "display_data"
    }
   ],
   "source": [
    "%matplotlib inline\n",
    "plt.imshow(cascade_env_dict_nk[5]['train'].object_library.render_all('column').transpose(1, 2, 0))"
   ],
   "metadata": {
    "collapsed": false,
    "pycharm": {
     "name": "#%%\n"
    }
   }
  },
  {
   "cell_type": "code",
   "execution_count": 20,
   "outputs": [
    {
     "name": "stdout",
     "output_type": "stream",
     "text": [
      "{'action': 0, 'lib-absolute-action': 0, 'lib-relative-action': 0, 'mapped-action': 0, 'unmapped-action': 0, 'object': 0, 'mapped-object': 0, 'obj-action-id': 0, 'obj-action-str': 'up', 'abs-direction': 0, 'abs-direction-str': 'north', 'moved': True}\n"
     ]
    },
    {
     "data": {
      "text/plain": "<Figure size 432x288 with 1 Axes>",
      "image/png": "[encoded data removed]"
     },
     "metadata": {
      "needs_background": "light"
     },
     "output_type": "display_data"
    },
    {
     "name": "stdout",
     "output_type": "stream",
     "text": [
      "{'action': 1, 'lib-absolute-action': 1, 'lib-relative-action': 1, 'mapped-action': 1, 'unmapped-action': 1, 'object': 0, 'mapped-object': 0, 'obj-action-id': 1, 'obj-action-str': 'right', 'abs-direction': 1, 'abs-direction-str': 'east', 'moved': True}\n"
     ]
    },
    {
     "data": {
      "text/plain": "<Figure size 432x288 with 1 Axes>",
      "image/png": "[encoded data removed]"
     },
     "metadata": {
      "needs_background": "light"
     },
     "output_type": "display_data"
    },
    {
     "name": "stdout",
     "output_type": "stream",
     "text": [
      "{'action': 2, 'lib-absolute-action': 2, 'lib-relative-action': 2, 'mapped-action': 2, 'unmapped-action': 2, 'object': 0, 'mapped-object': 0, 'obj-action-id': 2, 'obj-action-str': 'down', 'abs-direction': 2, 'abs-direction-str': 'south', 'moved': True}\n"
     ]
    },
    {
     "data": {
      "text/plain": "<Figure size 432x288 with 1 Axes>",
      "image/png": "[encoded data removed]"
     },
     "metadata": {
      "needs_background": "light"
     },
     "output_type": "display_data"
    },
    {
     "name": "stdout",
     "output_type": "stream",
     "text": [
      "{'action': 3, 'lib-absolute-action': 3, 'lib-relative-action': 3, 'mapped-action': 3, 'unmapped-action': 3, 'object': 0, 'mapped-object': 0, 'obj-action-id': 3, 'obj-action-str': 'left', 'abs-direction': 3, 'abs-direction-str': 'west', 'moved': True}\n"
     ]
    },
    {
     "data": {
      "text/plain": "<Figure size 432x288 with 1 Axes>",
      "image/png": "[encoded data removed]"
     },
     "metadata": {
      "needs_background": "light"
     },
     "output_type": "display_data"
    }
   ],
   "source": [
    "%matplotlib inline\n",
    "for i in range(4):\n",
    "    # obs, _, _, info = env_rh.sample_step(filter_moving_prob=1.0)\n",
    "    obs, _, _, info = cascade_env_dict_nk[5]['train'].step(i)\n",
    "    plt.imshow(obs[1].transpose(1, 2, 0))\n",
    "    print(info)\n",
    "    plt.show()"
   ],
   "metadata": {
    "collapsed": false,
    "pycharm": {
     "name": "#%%\n"
    }
   }
  },
  {
   "cell_type": "markdown",
   "source": [
    "# test lib"
   ],
   "metadata": {
    "collapsed": false
   }
  },
  {
   "cell_type": "code",
   "execution_count": 34,
   "outputs": [
    {
     "name": "stdout",
     "output_type": "stream",
     "text": [
      "[#objects in scene] K = 3 [#objects in library] N = 6\n",
      "> Num of training config: 4, Num of eval config: 4\n",
      "> Num of all config: 8, Num of max possible config: 8\n",
      "> Training/Eval config: [(2, 3, 5), (0, 3, 4), (0, 1, 2), (0, 2, 3)] [(1, 4, 5), (2, 4, 5), (3, 4, 5), (0, 2, 4)]\n",
      "> Training/Eval config: [(2, 3, 5), (0, 3, 4), (0, 1, 2), (0, 2, 3)] [(1, 4, 5), (2, 4, 5), (3, 4, 5), (0, 2, 4)]\n",
      "[#objects in scene] K = 3 [#objects in library] N = 8\n",
      "> Num of training config: 4, Num of eval config: 4\n",
      "> Num of all config: 8, Num of max possible config: 8\n",
      "> Training/Eval config: [(1, 4, 7), (0, 1, 2), (0, 3, 5), (1, 2, 7)] [(1, 6, 7), (0, 1, 4), (3, 4, 5), (2, 5, 7)]\n",
      "> Warning: not covering all objects in training config; regenerate\n",
      "> Covered objects {0, 1, 2, 3, 4, 5, 7}\n",
      "> Num of training config: 4, Num of eval config: 4\n",
      "> Num of all config: 8, Num of max possible config: 8\n",
      "> Warning: not covering all objects in training config; regenerate\n",
      "> Covered objects {0, 1, 3, 4, 5, 7}\n",
      "> Num of training config: 4, Num of eval config: 4\n",
      "> Num of all config: 8, Num of max possible config: 8\n",
      "> Warning: not covering all objects in training config; regenerate\n",
      "> Covered objects {0, 1, 3, 4, 5, 6, 7}\n",
      "> Num of training config: 4, Num of eval config: 4\n",
      "> Num of all config: 8, Num of max possible config: 8\n",
      "> Warning: not covering all objects in training config; regenerate\n",
      "> Covered objects {0, 1, 2, 3, 5, 6}\n",
      "> Num of training config: 4, Num of eval config: 4\n",
      "> Num of all config: 8, Num of max possible config: 8\n",
      "> Warning: not covering all objects in training config; regenerate\n",
      "> Covered objects {1, 2, 3, 4, 5, 6, 7}\n",
      "> Num of training config: 4, Num of eval config: 4\n",
      "> Num of all config: 8, Num of max possible config: 8\n",
      "> Warning: not covering all objects in training config; regenerate\n",
      "> Covered objects {0, 1, 2, 3, 5, 6, 7}\n",
      "> Num of training config: 4, Num of eval config: 4\n",
      "> Num of all config: 8, Num of max possible config: 8\n",
      "> Warning: not covering all objects in training config; regenerate\n",
      "> Covered objects {0, 1, 2, 3, 5, 7}\n",
      "> Num of training config: 4, Num of eval config: 4\n",
      "> Num of all config: 8, Num of max possible config: 8\n",
      "> Warning: not covering all objects in training config; regenerate\n",
      "> Covered objects {0, 1, 2, 3, 6, 7}\n",
      "> Num of training config: 4, Num of eval config: 4\n",
      "> Num of all config: 8, Num of max possible config: 8\n",
      "> Warning: not covering all objects in training config; regenerate\n",
      "> Covered objects {1, 2, 3, 4, 5, 6, 7}\n",
      "> Num of training config: 4, Num of eval config: 4\n",
      "> Num of all config: 8, Num of max possible config: 8\n",
      "> Warning: not covering all objects in training config; regenerate\n",
      "> Covered objects {2, 3, 4, 6, 7}\n",
      "> Num of training config: 4, Num of eval config: 4\n",
      "> Num of all config: 8, Num of max possible config: 8\n",
      "> Warning: not covering all objects in training config; regenerate\n",
      "> Covered objects {0, 1, 2, 3, 4, 5, 6}\n",
      "> Num of training config: 4, Num of eval config: 4\n",
      "> Num of all config: 8, Num of max possible config: 8\n",
      "> Warning: not covering all objects in training config; regenerate\n",
      "> Covered objects {1, 2, 4, 5, 6, 7}\n",
      "> Num of training config: 4, Num of eval config: 4\n",
      "> Num of all config: 8, Num of max possible config: 8\n",
      "> Warning: not covering all objects in training config; regenerate\n",
      "> Covered objects {0, 1, 2, 3, 5, 6, 7}\n",
      "> Num of training config: 4, Num of eval config: 4\n",
      "> Num of all config: 8, Num of max possible config: 8\n",
      "> Training/Eval config: [(2, 4, 7), (3, 4, 7), (1, 3, 6), (0, 3, 5)] [(0, 1, 7), (2, 4, 6), (1, 3, 5), (0, 3, 7)]\n",
      "[#objects in scene] K = 3 [#objects in library] N = 10\n",
      "> Num of training config: 4, Num of eval config: 4\n",
      "> Num of all config: 8, Num of max possible config: 8\n",
      "> Training/Eval config: [(2, 6, 9), (1, 3, 6), (0, 4, 9), (0, 2, 5)] [(2, 8, 9), (3, 6, 7), (0, 2, 4), (1, 6, 8)]\n",
      "> Warning: not covering all objects in training config; regenerate\n",
      "> Covered objects {0, 1, 2, 3, 4, 5, 6, 9}\n",
      "> Num of training config: 4, Num of eval config: 4\n",
      "> Num of all config: 8, Num of max possible config: 8\n",
      "> Warning: not covering all objects in training config; regenerate\n",
      "> Covered objects {0, 2, 3, 4, 6, 8, 9}\n",
      "> Num of training config: 4, Num of eval config: 4\n",
      "> Num of all config: 8, Num of max possible config: 8\n",
      "> Warning: not covering all objects in training config; regenerate\n",
      "> Covered objects {0, 2, 4, 5, 6, 7, 8, 9}\n",
      "> Num of training config: 4, Num of eval config: 4\n",
      "> Num of all config: 8, Num of max possible config: 8\n",
      "> Warning: not covering all objects in training config; regenerate\n",
      "> Covered objects {0, 1, 2, 3, 4, 6, 8, 9}\n",
      "> Num of training config: 4, Num of eval config: 4\n",
      "> Num of all config: 8, Num of max possible config: 8\n",
      "> Warning: not covering all objects in training config; regenerate\n",
      "> Covered objects {0, 1, 4, 5, 6, 7, 8, 9}\n",
      "> Num of training config: 4, Num of eval config: 4\n",
      "> Num of all config: 8, Num of max possible config: 8\n",
      "> Warning: not covering all objects in training config; regenerate\n",
      "> Covered objects {0, 1, 2, 3, 4, 7, 8}\n",
      "> Num of training config: 4, Num of eval config: 4\n",
      "> Num of all config: 8, Num of max possible config: 8\n",
      "> Warning: not covering all objects in training config; regenerate\n",
      "> Covered objects {0, 1, 2, 3, 6, 7, 8, 9}\n",
      "> Num of training config: 4, Num of eval config: 4\n",
      "> Num of all config: 8, Num of max possible config: 8\n",
      "> Warning: not covering all objects in training config; regenerate\n",
      "> Covered objects {0, 1, 2, 3, 4, 7, 8}\n",
      "> Num of training config: 4, Num of eval config: 4\n",
      "> Num of all config: 8, Num of max possible config: 8\n",
      "> Warning: not covering all objects in training config; regenerate\n",
      "> Covered objects {1, 2, 3, 5, 6, 7}\n",
      "> Num of training config: 4, Num of eval config: 4\n",
      "> Num of all config: 8, Num of max possible config: 8\n",
      "> Warning: not covering all objects in training config; regenerate\n",
      "> Covered objects {0, 1, 2, 3, 4, 5, 6, 7}\n",
      "> Num of training config: 4, Num of eval config: 4\n",
      "> Num of all config: 8, Num of max possible config: 8\n",
      "> Warning: not covering all objects in training config; regenerate\n",
      "> Covered objects {0, 1, 2, 4, 5, 6, 7, 8, 9}\n",
      "> Num of training config: 4, Num of eval config: 4\n",
      "> Num of all config: 8, Num of max possible config: 8\n",
      "> Warning: not covering all objects in training config; regenerate\n",
      "> Covered objects {0, 1, 2, 3, 5, 6, 7, 8}\n",
      "> Num of training config: 4, Num of eval config: 4\n",
      "> Num of all config: 8, Num of max possible config: 8\n",
      "> Warning: not covering all objects in training config; regenerate\n",
      "> Covered objects {0, 1, 2, 3, 5, 6, 8, 9}\n",
      "> Num of training config: 4, Num of eval config: 4\n",
      "> Num of all config: 8, Num of max possible config: 8\n",
      "> Warning: not covering all objects in training config; regenerate\n",
      "> Covered objects {0, 1, 3, 4, 5, 6, 7, 9}\n",
      "> Num of training config: 4, Num of eval config: 4\n",
      "> Num of all config: 8, Num of max possible config: 8\n",
      "> Warning: not covering all objects in training config; regenerate\n",
      "> Covered objects {0, 1, 3, 5, 6, 7, 8, 9}\n",
      "> Num of training config: 4, Num of eval config: 4\n",
      "> Num of all config: 8, Num of max possible config: 8\n",
      "> Warning: not covering all objects in training config; regenerate\n",
      "> Covered objects {0, 2, 3, 4, 7, 8, 9}\n",
      "> Num of training config: 4, Num of eval config: 4\n",
      "> Num of all config: 8, Num of max possible config: 8\n",
      "> Warning: not covering all objects in training config; regenerate\n",
      "> Covered objects {1, 2, 3, 4, 6, 7, 8, 9}\n",
      "> Num of training config: 4, Num of eval config: 4\n",
      "> Num of all config: 8, Num of max possible config: 8\n",
      "> Warning: not covering all objects in training config; regenerate\n",
      "> Covered objects {0, 1, 2, 3, 4, 6, 7, 8, 9}\n",
      "> Num of training config: 4, Num of eval config: 4\n",
      "> Num of all config: 8, Num of max possible config: 8\n",
      "> Warning: not covering all objects in training config; regenerate\n",
      "> Covered objects {0, 1, 2, 4, 5, 6, 7, 8}\n",
      "> Num of training config: 4, Num of eval config: 4\n",
      "> Num of all config: 8, Num of max possible config: 8\n",
      "> Warning: not covering all objects in training config; regenerate\n",
      "> Covered objects {0, 3, 4, 5, 6, 7, 8, 9}\n",
      "> Num of training config: 4, Num of eval config: 4\n",
      "> Num of all config: 8, Num of max possible config: 8\n",
      "> Warning: not covering all objects in training config; regenerate\n",
      "> Covered objects {1, 2, 3, 4, 5, 6, 7, 8, 9}\n",
      "> Num of training config: 4, Num of eval config: 4\n",
      "> Num of all config: 8, Num of max possible config: 8\n",
      "> Warning: not covering all objects in training config; regenerate\n",
      "> Covered objects {0, 1, 2, 4, 6, 9}\n",
      "> Num of training config: 4, Num of eval config: 4\n",
      "> Num of all config: 8, Num of max possible config: 8\n",
      "> Warning: not covering all objects in training config; regenerate\n",
      "> Covered objects {0, 1, 3, 5, 6, 7, 9}\n",
      "> Num of training config: 4, Num of eval config: 4\n",
      "> Num of all config: 8, Num of max possible config: 8\n",
      "> Warning: not covering all objects in training config; regenerate\n",
      "> Covered objects {0, 1, 4, 5, 6, 7, 8}\n",
      "> Num of training config: 4, Num of eval config: 4\n",
      "> Num of all config: 8, Num of max possible config: 8\n",
      "> Warning: not covering all objects in training config; regenerate\n",
      "> Covered objects {0, 2, 4, 5, 6, 7, 9}\n",
      "> Num of training config: 4, Num of eval config: 4\n",
      "> Num of all config: 8, Num of max possible config: 8\n",
      "> Warning: not covering all objects in training config; regenerate\n",
      "> Covered objects {0, 1, 2, 3, 5, 7, 8}\n",
      "> Num of training config: 4, Num of eval config: 4\n",
      "> Num of all config: 8, Num of max possible config: 8\n",
      "> Warning: not covering all objects in training config; regenerate\n",
      "> Covered objects {0, 1, 2, 3, 4, 6, 7, 8, 9}\n",
      "> Num of training config: 4, Num of eval config: 4\n",
      "> Num of all config: 8, Num of max possible config: 8\n",
      "> Warning: not covering all objects in training config; regenerate\n",
      "> Covered objects {0, 1, 2, 3, 4, 5, 8, 9}\n",
      "> Num of training config: 4, Num of eval config: 4\n",
      "> Num of all config: 8, Num of max possible config: 8\n",
      "> Warning: not covering all objects in training config; regenerate\n",
      "> Covered objects {0, 2, 3, 4, 5, 6, 7}\n",
      "> Num of training config: 4, Num of eval config: 4\n",
      "> Num of all config: 8, Num of max possible config: 8\n",
      "> Warning: not covering all objects in training config; regenerate\n",
      "> Covered objects {0, 3, 4, 5, 7, 8, 9}\n",
      "> Num of training config: 4, Num of eval config: 4\n",
      "> Num of all config: 8, Num of max possible config: 8\n",
      "> Warning: not covering all objects in training config; regenerate\n",
      "> Covered objects {0, 1, 2, 3, 5, 6, 7}\n",
      "> Num of training config: 4, Num of eval config: 4\n",
      "> Num of all config: 8, Num of max possible config: 8\n",
      "> Warning: not covering all objects in training config; regenerate\n",
      "> Covered objects {0, 1, 2, 3, 6, 7, 8, 9}\n",
      "> Num of training config: 4, Num of eval config: 4\n",
      "> Num of all config: 8, Num of max possible config: 8\n",
      "> Warning: not covering all objects in training config; regenerate\n",
      "> Covered objects {0, 2, 3, 4, 6, 8, 9}\n",
      "> Num of training config: 4, Num of eval config: 4\n",
      "> Num of all config: 8, Num of max possible config: 8\n",
      "> Warning: not covering all objects in training config; regenerate\n",
      "> Covered objects {0, 2, 3, 5, 6, 7, 8}\n",
      "> Num of training config: 4, Num of eval config: 4\n",
      "> Num of all config: 8, Num of max possible config: 8\n",
      "> Warning: not covering all objects in training config; regenerate\n",
      "> Covered objects {0, 2, 4, 5, 6, 7, 8, 9}\n",
      "> Num of training config: 4, Num of eval config: 4\n",
      "> Num of all config: 8, Num of max possible config: 8\n",
      "> Warning: not covering all objects in training config; regenerate\n",
      "> Covered objects {0, 1, 2, 3, 4, 5, 6, 7, 8}\n",
      "> Num of training config: 4, Num of eval config: 4\n",
      "> Num of all config: 8, Num of max possible config: 8\n",
      "> Warning: not covering all objects in training config; regenerate\n",
      "> Covered objects {1, 2, 3, 4, 6, 7, 8, 9}\n",
      "> Num of training config: 4, Num of eval config: 4\n",
      "> Num of all config: 8, Num of max possible config: 8\n",
      "> Warning: not covering all objects in training config; regenerate\n",
      "> Covered objects {1, 2, 3, 6, 7, 8, 9}\n",
      "> Num of training config: 4, Num of eval config: 4\n",
      "> Num of all config: 8, Num of max possible config: 8\n",
      "> Warning: not covering all objects in training config; regenerate\n",
      "> Covered objects {0, 1, 2, 3, 4, 5, 7}\n",
      "> Num of training config: 4, Num of eval config: 4\n",
      "> Num of all config: 8, Num of max possible config: 8\n",
      "> Warning: not covering all objects in training config; regenerate\n",
      "> Covered objects {2, 3, 4, 5, 6, 7, 8, 9}\n",
      "> Num of training config: 4, Num of eval config: 4\n",
      "> Num of all config: 8, Num of max possible config: 8\n",
      "> Warning: not covering all objects in training config; regenerate\n",
      "> Covered objects {0, 1, 3, 4, 6, 8}\n",
      "> Num of training config: 4, Num of eval config: 4\n",
      "> Num of all config: 8, Num of max possible config: 8\n",
      "> Warning: not covering all objects in training config; regenerate\n",
      "> Covered objects {0, 2, 5, 6, 7, 8, 9}\n",
      "> Num of training config: 4, Num of eval config: 4\n",
      "> Num of all config: 8, Num of max possible config: 8\n",
      "> Warning: not covering all objects in training config; regenerate\n",
      "> Covered objects {0, 1, 2, 3, 5, 7, 8, 9}\n",
      "> Num of training config: 4, Num of eval config: 4\n",
      "> Num of all config: 8, Num of max possible config: 8\n",
      "> Warning: not covering all objects in training config; regenerate\n",
      "> Covered objects {0, 2, 3, 4, 5, 7, 8, 9}\n",
      "> Num of training config: 4, Num of eval config: 4\n",
      "> Num of all config: 8, Num of max possible config: 8\n",
      "> Warning: not covering all objects in training config; regenerate\n",
      "> Covered objects {0, 2, 3, 4, 5, 6, 7, 9}\n",
      "> Num of training config: 4, Num of eval config: 4\n",
      "> Num of all config: 8, Num of max possible config: 8\n",
      "> Warning: not covering all objects in training config; regenerate\n",
      "> Covered objects {0, 1, 2, 3, 6, 7, 8, 9}\n",
      "> Num of training config: 4, Num of eval config: 4\n",
      "> Num of all config: 8, Num of max possible config: 8\n",
      "> Warning: not covering all objects in training config; regenerate\n",
      "> Covered objects {0, 1, 3, 4, 5, 6, 7, 8, 9}\n",
      "> Num of training config: 4, Num of eval config: 4\n",
      "> Num of all config: 8, Num of max possible config: 8\n",
      "> Warning: not covering all objects in training config; regenerate\n",
      "> Covered objects {2, 3, 6, 7, 8, 9}\n",
      "> Num of training config: 4, Num of eval config: 4\n",
      "> Num of all config: 8, Num of max possible config: 8\n",
      "> Warning: not covering all objects in training config; regenerate\n",
      "> Covered objects {0, 1, 2, 3, 4, 6, 7}\n",
      "> Num of training config: 4, Num of eval config: 4\n",
      "> Num of all config: 8, Num of max possible config: 8\n",
      "> Warning: not covering all objects in training config; regenerate\n",
      "> Covered objects {0, 1, 2, 3, 6, 7, 8}\n",
      "> Num of training config: 4, Num of eval config: 4\n",
      "> Num of all config: 8, Num of max possible config: 8\n",
      "> Warning: not covering all objects in training config; regenerate\n",
      "> Covered objects {0, 1, 2, 3, 4, 5, 6, 7, 8}\n",
      "> Num of training config: 4, Num of eval config: 4\n",
      "> Num of all config: 8, Num of max possible config: 8\n",
      "> Warning: not covering all objects in training config; regenerate\n",
      "> Covered objects {0, 1, 2, 3, 4, 6, 7, 8}\n",
      "> Num of training config: 4, Num of eval config: 4\n",
      "> Num of all config: 8, Num of max possible config: 8\n",
      "> Warning: not covering all objects in training config; regenerate\n",
      "> Covered objects {0, 1, 4, 5, 6, 7, 8, 9}\n",
      "> Num of training config: 4, Num of eval config: 4\n",
      "> Num of all config: 8, Num of max possible config: 8\n",
      "> Warning: not covering all objects in training config; regenerate\n",
      "> Covered objects {0, 1, 3, 4, 6, 7, 8}\n",
      "> Num of training config: 4, Num of eval config: 4\n",
      "> Num of all config: 8, Num of max possible config: 8\n",
      "> Warning: not covering all objects in training config; regenerate\n",
      "> Covered objects {0, 3, 4, 5, 7, 9}\n",
      "> Num of training config: 4, Num of eval config: 4\n",
      "> Num of all config: 8, Num of max possible config: 8\n",
      "> Warning: not covering all objects in training config; regenerate\n",
      "> Covered objects {0, 1, 2, 3, 4, 8, 9}\n",
      "> Num of training config: 4, Num of eval config: 4\n",
      "> Num of all config: 8, Num of max possible config: 8\n",
      "> Warning: not covering all objects in training config; regenerate\n",
      "> Covered objects {0, 1, 3, 4, 5, 6, 7, 8}\n",
      "> Num of training config: 4, Num of eval config: 4\n",
      "> Num of all config: 8, Num of max possible config: 8\n",
      "> Warning: not covering all objects in training config; regenerate\n",
      "> Covered objects {0, 1, 2, 3, 4, 6, 7, 8, 9}\n",
      "> Num of training config: 4, Num of eval config: 4\n",
      "> Num of all config: 8, Num of max possible config: 8\n",
      "> Warning: not covering all objects in training config; regenerate\n",
      "> Covered objects {1, 2, 3, 4, 6, 7, 8, 9}\n",
      "> Num of training config: 4, Num of eval config: 4\n",
      "> Num of all config: 8, Num of max possible config: 8\n",
      "> Warning: not covering all objects in training config; regenerate\n",
      "> Covered objects {0, 1, 2, 4, 7, 8, 9}\n",
      "> Num of training config: 4, Num of eval config: 4\n",
      "> Num of all config: 8, Num of max possible config: 8\n",
      "> Warning: not covering all objects in training config; regenerate\n",
      "> Covered objects {0, 1, 2, 3, 4, 5, 7}\n",
      "> Num of training config: 4, Num of eval config: 4\n",
      "> Num of all config: 8, Num of max possible config: 8\n",
      "> Warning: not covering all objects in training config; regenerate\n",
      "> Covered objects {1, 2, 3, 6, 7, 9}\n",
      "> Num of training config: 4, Num of eval config: 4\n",
      "> Num of all config: 8, Num of max possible config: 8\n",
      "> Training/Eval config: [(3, 4, 6), (2, 6, 7), (0, 1, 9), (2, 5, 8)] [(5, 7, 8), (6, 7, 9), (1, 4, 6), (1, 6, 8)]\n",
      "> Extra kwargs: dict_keys([])\n",
      "> Extra kwargs: dict_keys([])\n",
      "> Extra kwargs: dict_keys([])\n",
      "> Extra kwargs: dict_keys([])\n",
      "> Extra kwargs: dict_keys([])\n",
      "> Extra kwargs: dict_keys([])\n",
      "[#objects in scene] K = 3 [#objects in library] N = 10\n",
      "> Num of training config: 4, Num of eval config: 4\n",
      "> Num of all config: 8, Num of max possible config: 8\n",
      "> Training/Eval config: [(4, 8, 9), (5, 8, 9), (1, 2, 6), (2, 3, 9)] [(0, 1, 6), (1, 2, 9), (1, 4, 8), (2, 5, 6)]\n",
      "> Warning: not covering all objects in training config; regenerate\n",
      "> Covered objects {1, 2, 3, 4, 5, 6, 8, 9}\n",
      "> Num of training config: 4, Num of eval config: 4\n",
      "> Num of all config: 8, Num of max possible config: 8\n",
      "> Warning: not covering all objects in training config; regenerate\n",
      "> Covered objects {0, 1, 2, 4, 5, 6, 7, 9}\n",
      "> Num of training config: 4, Num of eval config: 4\n",
      "> Num of all config: 8, Num of max possible config: 8\n",
      "> Warning: not covering all objects in training config; regenerate\n",
      "> Covered objects {5, 6, 7, 8, 9}\n",
      "> Num of training config: 4, Num of eval config: 4\n",
      "> Num of all config: 8, Num of max possible config: 8\n",
      "> Warning: not covering all objects in training config; regenerate\n",
      "> Covered objects {1, 2, 4, 6, 7, 8, 9}\n",
      "> Num of training config: 4, Num of eval config: 4\n",
      "> Num of all config: 8, Num of max possible config: 8\n",
      "> Warning: not covering all objects in training config; regenerate\n",
      "> Covered objects {0, 1, 2, 3, 5, 6, 7, 8, 9}\n",
      "> Num of training config: 4, Num of eval config: 4\n",
      "> Num of all config: 8, Num of max possible config: 8\n",
      "> Warning: not covering all objects in training config; regenerate\n",
      "> Covered objects {1, 2, 3, 4, 5, 6, 7, 8}\n",
      "> Num of training config: 4, Num of eval config: 4\n",
      "> Num of all config: 8, Num of max possible config: 8\n",
      "> Warning: not covering all objects in training config; regenerate\n",
      "> Covered objects {0, 1, 2, 4, 5, 6, 7, 8}\n",
      "> Num of training config: 4, Num of eval config: 4\n",
      "> Num of all config: 8, Num of max possible config: 8\n",
      "> Training/Eval config: [(5, 8, 9), (0, 1, 6), (2, 4, 7), (3, 7, 9)] [(4, 7, 8), (6, 8, 9), (3, 7, 8), (3, 5, 9)]\n",
      "> Extra kwargs: dict_keys([])\n",
      "> Extra kwargs: dict_keys([])\n"
     ]
    }
   ],
   "source": [
    "cascade_env_dict, cascade_pool_dict = get_cascade_library(\n",
    "    num_objects_scene=3,\n",
    "    num_objects_total_list=[6, 8, 10],\n",
    "    num_config_eval=4,\n",
    "    num_config_train=4,\n",
    "    gen_original=True\n",
    ")"
   ],
   "metadata": {
    "collapsed": false,
    "pycharm": {
     "name": "#%%\n"
    }
   }
  },
  {
   "cell_type": "markdown",
   "source": [
    "# vis all objects"
   ],
   "metadata": {
    "collapsed": false,
    "pycharm": {
     "name": "#%% md\n"
    }
   }
  },
  {
   "cell_type": "code",
   "execution_count": 35,
   "outputs": [
    {
     "data": {
      "text/plain": "dict_keys([6, 8, 10, 0])"
     },
     "execution_count": 35,
     "metadata": {},
     "output_type": "execute_result"
    }
   ],
   "source": [
    "cascade_env_dict.keys()"
   ],
   "metadata": {
    "collapsed": false,
    "pycharm": {
     "name": "#%%\n"
    }
   }
  },
  {
   "cell_type": "code",
   "execution_count": 36,
   "outputs": [
    {
     "name": "stdout",
     "output_type": "stream",
     "text": [
      "> id <-> positions: [0, 1, 2, 3, 4, 5, 6, 7] [(0, 0), (1, 0), (2, 0), (3, 0), (4, 0), (5, 0), (6, 0), (7, 0)]\n"
     ]
    },
    {
     "data": {
      "text/plain": "<matplotlib.image.AxesImage at 0x7f647cb77350>"
     },
     "execution_count": 36,
     "metadata": {},
     "output_type": "execute_result"
    },
    {
     "data": {
      "text/plain": "<Figure size 432x288 with 1 Axes>",
      "image/png": "[encoded data removed]"
     },
     "metadata": {
      "needs_background": "light"
     },
     "output_type": "display_data"
    }
   ],
   "source": [
    "%matplotlib inline\n",
    "plt.imshow(cascade_env_dict[8]['train'].object_library.render_all('column').transpose(1, 2, 0))"
   ],
   "metadata": {
    "collapsed": false,
    "pycharm": {
     "name": "#%%\n"
    }
   }
  },
  {
   "cell_type": "code",
   "execution_count": 37,
   "outputs": [
    {
     "name": "stdout",
     "output_type": "stream",
     "text": [
      "> id <-> positions: [0, 1, 2, 3, 4, 5, 6, 7, 8, 9] [(0, 0), (1, 0), (2, 0), (3, 0), (4, 0), (5, 0), (6, 0), (7, 0), (8, 0), (9, 0)]\n"
     ]
    },
    {
     "data": {
      "text/plain": "<matplotlib.image.AxesImage at 0x7f647caf0690>"
     },
     "execution_count": 37,
     "metadata": {},
     "output_type": "execute_result"
    },
    {
     "data": {
      "text/plain": "<Figure size 432x288 with 1 Axes>",
      "image/png": "[encoded data removed]"
     },
     "metadata": {
      "needs_background": "light"
     },
     "output_type": "display_data"
    }
   ],
   "source": [
    "%matplotlib inline\n",
    "plt.imshow(cascade_env_dict[10]['train'].object_library.render_all('column').transpose(1, 2, 0))"
   ],
   "metadata": {
    "collapsed": false,
    "pycharm": {
     "name": "#%%\n"
    }
   }
  },
  {
   "cell_type": "code",
   "execution_count": 38,
   "outputs": [
    {
     "name": "stdout",
     "output_type": "stream",
     "text": [
      "> id <-> positions: [0, 1, 2, 3, 4, 5, 6, 7, 8, 9] [(0, 0), (1, 0), (2, 0), (3, 0), (4, 0), (5, 0), (6, 0), (7, 0), (8, 0), (9, 0)]\n"
     ]
    },
    {
     "data": {
      "text/plain": "<matplotlib.image.AxesImage at 0x7f647cb54810>"
     },
     "execution_count": 38,
     "metadata": {},
     "output_type": "execute_result"
    },
    {
     "data": {
      "text/plain": "<Figure size 432x288 with 1 Axes>",
      "image/png": "[encoded data removed]"
     },
     "metadata": {
      "needs_background": "light"
     },
     "output_type": "display_data"
    }
   ],
   "source": [
    "%matplotlib inline\n",
    "plt.imshow(cascade_env_dict[0]['train'].object_library.render_all('column').transpose(1, 2, 0))"
   ],
   "metadata": {
    "collapsed": false,
    "pycharm": {
     "name": "#%%\n"
    }
   }
  },
  {
   "cell_type": "markdown",
   "source": [
    "# test actions"
   ],
   "metadata": {
    "collapsed": false,
    "pycharm": {
     "name": "#%% md\n"
    }
   }
  },
  {
   "cell_type": "code",
   "execution_count": 39,
   "outputs": [
    {
     "name": "stdout",
     "output_type": "stream",
     "text": [
      "{'action': 8, 'lib-absolute-action': 8, 'lib-relative-action': 8, 'mapped-action': 8, 'unmapped-action': 0, 'object': 0, 'mapped-object': 2, 'obj-action-id': 0, 'obj-action-str': 'up', 'abs-direction': 0, 'abs-direction-str': 'north', 'moved': False}\n"
     ]
    },
    {
     "data": {
      "text/plain": "<Figure size 432x288 with 1 Axes>",
      "image/png": "[encoded data removed]"
     },
     "metadata": {
      "needs_background": "light"
     },
     "output_type": "display_data"
    },
    {
     "name": "stdout",
     "output_type": "stream",
     "text": [
      "{'action': 9, 'lib-absolute-action': 9, 'lib-relative-action': 9, 'mapped-action': 9, 'unmapped-action': 1, 'object': 0, 'mapped-object': 2, 'obj-action-id': 1, 'obj-action-str': 'right', 'abs-direction': 1, 'abs-direction-str': 'east', 'moved': False}\n"
     ]
    },
    {
     "data": {
      "text/plain": "<Figure size 432x288 with 1 Axes>",
      "image/png": "[encoded data removed]"
     },
     "metadata": {
      "needs_background": "light"
     },
     "output_type": "display_data"
    },
    {
     "name": "stdout",
     "output_type": "stream",
     "text": [
      "{'action': 10, 'lib-absolute-action': 10, 'lib-relative-action': 10, 'mapped-action': 10, 'unmapped-action': 2, 'object': 0, 'mapped-object': 2, 'obj-action-id': 2, 'obj-action-str': 'down', 'abs-direction': 2, 'abs-direction-str': 'south', 'moved': True}\n"
     ]
    },
    {
     "data": {
      "text/plain": "<Figure size 432x288 with 1 Axes>",
      "image/png": "[encoded data removed]"
     },
     "metadata": {
      "needs_background": "light"
     },
     "output_type": "display_data"
    },
    {
     "name": "stdout",
     "output_type": "stream",
     "text": [
      "{'action': 11, 'lib-absolute-action': 11, 'lib-relative-action': 11, 'mapped-action': 11, 'unmapped-action': 3, 'object': 0, 'mapped-object': 2, 'obj-action-id': 3, 'obj-action-str': 'left', 'abs-direction': 3, 'abs-direction-str': 'west', 'moved': True}\n"
     ]
    },
    {
     "data": {
      "text/plain": "<Figure size 432x288 with 1 Axes>",
      "image/png": "[encoded data removed]"
     },
     "metadata": {
      "needs_background": "light"
     },
     "output_type": "display_data"
    }
   ],
   "source": [
    "%matplotlib inline\n",
    "for i in range(4):\n",
    "    # obs, _, _, info = env_rh.sample_step(filter_moving_prob=1.0)\n",
    "    obs, _, _, info = cascade_env_dict[0]['train'].step(i)\n",
    "    plt.imshow(obs[1].transpose(1, 2, 0))\n",
    "    print(info)\n",
    "    plt.show()"
   ],
   "metadata": {
    "collapsed": false,
    "pycharm": {
     "name": "#%%\n"
    }
   }
  },
  {
   "cell_type": "code",
   "execution_count": 40,
   "outputs": [
    {
     "name": "stdout",
     "output_type": "stream",
     "text": [
      "{'action': 12, 'lib-absolute-action': 12, 'lib-relative-action': 12, 'mapped-action': 12, 'unmapped-action': 0, 'object': 0, 'mapped-object': 3, 'obj-action-id': 0, 'obj-action-str': 'up', 'abs-direction': 0, 'abs-direction-str': 'north', 'moved': True}\n"
     ]
    },
    {
     "data": {
      "text/plain": "<Figure size 432x288 with 1 Axes>",
      "image/png": "[encoded data removed]"
     },
     "metadata": {
      "needs_background": "light"
     },
     "output_type": "display_data"
    },
    {
     "name": "stdout",
     "output_type": "stream",
     "text": [
      "{'action': 13, 'lib-absolute-action': 13, 'lib-relative-action': 13, 'mapped-action': 13, 'unmapped-action': 1, 'object': 0, 'mapped-object': 3, 'obj-action-id': 1, 'obj-action-str': 'right', 'abs-direction': 1, 'abs-direction-str': 'east', 'moved': False}\n"
     ]
    },
    {
     "data": {
      "text/plain": "<Figure size 432x288 with 1 Axes>",
      "image/png": "[encoded data removed]"
     },
     "metadata": {
      "needs_background": "light"
     },
     "output_type": "display_data"
    },
    {
     "name": "stdout",
     "output_type": "stream",
     "text": [
      "{'action': 14, 'lib-absolute-action': 14, 'lib-relative-action': 14, 'mapped-action': 14, 'unmapped-action': 2, 'object': 0, 'mapped-object': 3, 'obj-action-id': 2, 'obj-action-str': 'down', 'abs-direction': 2, 'abs-direction-str': 'south', 'moved': True}\n"
     ]
    },
    {
     "data": {
      "text/plain": "<Figure size 432x288 with 1 Axes>",
      "image/png": "[encoded data removed]"
     },
     "metadata": {
      "needs_background": "light"
     },
     "output_type": "display_data"
    },
    {
     "name": "stdout",
     "output_type": "stream",
     "text": [
      "{'action': 15, 'lib-absolute-action': 15, 'lib-relative-action': 15, 'mapped-action': 15, 'unmapped-action': 3, 'object': 0, 'mapped-object': 3, 'obj-action-id': 3, 'obj-action-str': 'left', 'abs-direction': 3, 'abs-direction-str': 'west', 'moved': True}\n"
     ]
    },
    {
     "data": {
      "text/plain": "<Figure size 432x288 with 1 Axes>",
      "image/png": "[encoded data removed]"
     },
     "metadata": {
      "needs_background": "light"
     },
     "output_type": "display_data"
    },
    {
     "name": "stdout",
     "output_type": "stream",
     "text": [
      "{'action': 16, 'lib-absolute-action': 16, 'lib-relative-action': 16, 'mapped-action': 16, 'unmapped-action': 4, 'object': 1, 'mapped-object': 4, 'obj-action-id': 0, 'obj-action-str': 'up', 'abs-direction': 0, 'abs-direction-str': 'north', 'moved': True}\n"
     ]
    },
    {
     "data": {
      "text/plain": "<Figure size 432x288 with 1 Axes>",
      "image/png": "[encoded data removed]"
     },
     "metadata": {
      "needs_background": "light"
     },
     "output_type": "display_data"
    },
    {
     "name": "stdout",
     "output_type": "stream",
     "text": [
      "{'action': 17, 'lib-absolute-action': 17, 'lib-relative-action': 17, 'mapped-action': 17, 'unmapped-action': 5, 'object': 1, 'mapped-object': 4, 'obj-action-id': 1, 'obj-action-str': 'right', 'abs-direction': 1, 'abs-direction-str': 'east', 'moved': True}\n"
     ]
    },
    {
     "data": {
      "text/plain": "<Figure size 432x288 with 1 Axes>",
      "image/png": "[encoded data removed]"
     },
     "metadata": {
      "needs_background": "light"
     },
     "output_type": "display_data"
    },
    {
     "name": "stdout",
     "output_type": "stream",
     "text": [
      "{'action': 18, 'lib-absolute-action': 18, 'lib-relative-action': 18, 'mapped-action': 18, 'unmapped-action': 6, 'object': 1, 'mapped-object': 4, 'obj-action-id': 2, 'obj-action-str': 'down', 'abs-direction': 2, 'abs-direction-str': 'south', 'moved': True}\n"
     ]
    },
    {
     "data": {
      "text/plain": "<Figure size 432x288 with 1 Axes>",
      "image/png": "[encoded data removed]"
     },
     "metadata": {
      "needs_background": "light"
     },
     "output_type": "display_data"
    },
    {
     "name": "stdout",
     "output_type": "stream",
     "text": [
      "{'action': 19, 'lib-absolute-action': 19, 'lib-relative-action': 19, 'mapped-action': 19, 'unmapped-action': 7, 'object': 1, 'mapped-object': 4, 'obj-action-id': 3, 'obj-action-str': 'left', 'abs-direction': 3, 'abs-direction-str': 'west', 'moved': True}\n"
     ]
    },
    {
     "data": {
      "text/plain": "<Figure size 432x288 with 1 Axes>",
      "image/png": "[encoded data removed]"
     },
     "metadata": {
      "needs_background": "light"
     },
     "output_type": "display_data"
    },
    {
     "name": "stdout",
     "output_type": "stream",
     "text": [
      "{'action': 28, 'lib-absolute-action': 28, 'lib-relative-action': 28, 'mapped-action': 28, 'unmapped-action': 8, 'object': 2, 'mapped-object': 7, 'obj-action-id': 0, 'obj-action-str': 'up', 'abs-direction': 0, 'abs-direction-str': 'north', 'moved': True}\n"
     ]
    },
    {
     "data": {
      "text/plain": "<Figure size 432x288 with 1 Axes>",
      "image/png": "[encoded data removed]"
     },
     "metadata": {
      "needs_background": "light"
     },
     "output_type": "display_data"
    },
    {
     "name": "stdout",
     "output_type": "stream",
     "text": [
      "{'action': 29, 'lib-absolute-action': 29, 'lib-relative-action': 29, 'mapped-action': 29, 'unmapped-action': 9, 'object': 2, 'mapped-object': 7, 'obj-action-id': 1, 'obj-action-str': 'right', 'abs-direction': 1, 'abs-direction-str': 'east', 'moved': True}\n"
     ]
    },
    {
     "data": {
      "text/plain": "<Figure size 432x288 with 1 Axes>",
      "image/png": "[encoded data removed]"
     },
     "metadata": {
      "needs_background": "light"
     },
     "output_type": "display_data"
    },
    {
     "name": "stdout",
     "output_type": "stream",
     "text": [
      "{'action': 30, 'lib-absolute-action': 30, 'lib-relative-action': 30, 'mapped-action': 30, 'unmapped-action': 10, 'object': 2, 'mapped-object': 7, 'obj-action-id': 2, 'obj-action-str': 'down', 'abs-direction': 2, 'abs-direction-str': 'south', 'moved': True}\n"
     ]
    },
    {
     "data": {
      "text/plain": "<Figure size 432x288 with 1 Axes>",
      "image/png": "[encoded data removed]"
     },
     "metadata": {
      "needs_background": "light"
     },
     "output_type": "display_data"
    },
    {
     "name": "stdout",
     "output_type": "stream",
     "text": [
      "{'action': 31, 'lib-absolute-action': 31, 'lib-relative-action': 31, 'mapped-action': 31, 'unmapped-action': 11, 'object': 2, 'mapped-object': 7, 'obj-action-id': 3, 'obj-action-str': 'left', 'abs-direction': 3, 'abs-direction-str': 'west', 'moved': True}\n"
     ]
    },
    {
     "data": {
      "text/plain": "<Figure size 432x288 with 1 Axes>",
      "image/png": "[encoded data removed]"
     },
     "metadata": {
      "needs_background": "light"
     },
     "output_type": "display_data"
    }
   ],
   "source": [
    "%matplotlib inline\n",
    "for i in range(12):\n",
    "    # obs, _, _, info = env_rh.sample_step(filter_moving_prob=1.0)\n",
    "    obs, _, _, info = cascade_env_dict[8]['train'].step(i)\n",
    "    plt.imshow(obs[1].transpose(1, 2, 0))\n",
    "    print(info)\n",
    "    plt.show()"
   ],
   "metadata": {
    "collapsed": false,
    "pycharm": {
     "name": "#%%\n"
    }
   }
  },
  {
   "cell_type": "code",
   "execution_count": null,
   "outputs": [],
   "source": [],
   "metadata": {
    "collapsed": false,
    "pycharm": {
     "name": "#%%\n"
    }
   }
  }
 ],
 "metadata": {
  "kernelspec": {
   "display_name": "Python 3",
   "language": "python",
   "name": "python3"
  },
  "language_info": {
   "codemirror_mode": {
    "name": "ipython",
    "version": 2
   },
   "file_extension": ".py",
   "mimetype": "text/x-python",
   "name": "python",
   "nbconvert_exporter": "python",
   "pygments_lexer": "ipython2",
   "version": "2.7.6"
  }
 },
 "nbformat": 4,
 "nbformat_minor": 0
}