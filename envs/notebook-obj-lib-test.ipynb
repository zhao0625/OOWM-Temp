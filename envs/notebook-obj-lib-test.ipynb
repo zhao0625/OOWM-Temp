{
 "cells": [
  {
   "cell_type": "code",
   "execution_count": 1,
   "outputs": [],
   "source": [
    "%load_ext autoreload\n",
    "%autoreload 2"
   ],
   "metadata": {
    "collapsed": false,
    "pycharm": {
     "name": "#%%\n"
    }
   }
  },
  {
   "cell_type": "code",
   "execution_count": 2,
   "outputs": [
    {
     "data": {
      "text/plain": "'/mnt/Z-LabData-6T/zlf-nfs-hdd/projects'"
     },
     "execution_count": 2,
     "metadata": {},
     "output_type": "execute_result"
    }
   ],
   "source": [
    "%pwd"
   ],
   "metadata": {
    "collapsed": false,
    "pycharm": {
     "name": "#%%\n"
    }
   }
  },
  {
   "cell_type": "code",
   "execution_count": 3,
   "outputs": [
    {
     "name": "stdout",
     "output_type": "stream",
     "text": [
      "/mnt/Z-LabData-6T/zlf-nfs-hdd/projects/2020-OORL/ObjectOrientedRL\n"
     ]
    }
   ],
   "source": [
    "%cd '/mnt/Z-LabData-6T/zlf-nfs-hdd/projects/2020-OORL/ObjectOrientedRL'"
   ],
   "metadata": {
    "collapsed": false,
    "pycharm": {
     "name": "#%%\n"
    }
   }
  },
  {
   "cell_type": "code",
   "execution_count": 4,
   "metadata": {
    "collapsed": true
   },
   "outputs": [],
   "source": [
    "import numpy as np"
   ]
  },
  {
   "cell_type": "code",
   "execution_count": 5,
   "outputs": [],
   "source": [
    "from envs.block_pushing import ObjectPool, ObjectLibrary"
   ],
   "metadata": {
    "collapsed": false,
    "pycharm": {
     "name": "#%%\n"
    }
   }
  },
  {
   "cell_type": "code",
   "execution_count": 6,
   "outputs": [],
   "source": [
    "%matplotlib inline\n",
    "import matplotlib.pyplot as plt"
   ],
   "metadata": {
    "collapsed": false,
    "pycharm": {
     "name": "#%%\n"
    }
   }
  },
  {
   "cell_type": "markdown",
   "source": [
    "# test object covering on larger N"
   ],
   "metadata": {
    "collapsed": false,
    "pycharm": {
     "name": "#%% md\n"
    }
   }
  },
  {
   "cell_type": "code",
   "execution_count": 31,
   "outputs": [
    {
     "name": "stdout",
     "output_type": "stream",
     "text": [
      "> Num of training config: 20, Num of eval config: 20\n",
      "> Num of all config: 40, Num of max possible config: 40\n",
      "> Training/Eval config: [(3, 5, 7, 12, 15), (1, 4, 8, 13, 19), (1, 2, 4, 13, 15), (1, 2, 7, 18, 19), (8, 10, 12, 14, 15), (1, 4, 10, 13, 14), (1, 2, 9, 10, 14), (0, 2, 6, 8, 13), (3, 7, 11, 13, 16), (1, 7, 9, 12, 15), (0, 2, 8, 11, 14), (0, 2, 8, 16, 17), (5, 6, 12, 13, 17), (4, 8, 10, 12, 15), (3, 9, 10, 14, 15), (0, 2, 9, 14, 15), (1, 4, 7, 13, 17), (4, 5, 9, 13, 16), (4, 5, 7, 14, 18), (1, 3, 6, 8, 16)] [(1, 2, 5, 10, 17), (2, 4, 11, 12, 13), (5, 14, 15, 17, 19), (1, 3, 8, 11, 17), (0, 2, 5, 13, 18), (0, 3, 6, 13, 14), (3, 7, 11, 13, 14), (3, 8, 10, 12, 15), (2, 7, 11, 15, 17), (2, 5, 7, 11, 19), (2, 4, 8, 14, 15), (1, 4, 6, 13, 16), (1, 5, 9, 11, 18), (5, 6, 7, 8, 13), (1, 3, 7, 12, 15), (1, 3, 5, 7, 19), (0, 8, 13, 16, 19), (1, 9, 10, 13, 15), (3, 5, 7, 9, 13), (1, 3, 7, 10, 15)]\n",
      "> Training/Eval config: [(3, 5, 7, 12, 15), (1, 4, 8, 13, 19), (1, 2, 4, 13, 15), (1, 2, 7, 18, 19), (8, 10, 12, 14, 15), (1, 4, 10, 13, 14), (1, 2, 9, 10, 14), (0, 2, 6, 8, 13), (3, 7, 11, 13, 16), (1, 7, 9, 12, 15), (0, 2, 8, 11, 14), (0, 2, 8, 16, 17), (5, 6, 12, 13, 17), (4, 8, 10, 12, 15), (3, 9, 10, 14, 15), (0, 2, 9, 14, 15), (1, 4, 7, 13, 17), (4, 5, 9, 13, 16), (4, 5, 7, 14, 18), (1, 3, 6, 8, 16)] [(1, 2, 5, 10, 17), (2, 4, 11, 12, 13), (5, 14, 15, 17, 19), (1, 3, 8, 11, 17), (0, 2, 5, 13, 18), (0, 3, 6, 13, 14), (3, 7, 11, 13, 14), (3, 8, 10, 12, 15), (2, 7, 11, 15, 17), (2, 5, 7, 11, 19), (2, 4, 8, 14, 15), (1, 4, 6, 13, 16), (1, 5, 9, 11, 18), (5, 6, 7, 8, 13), (1, 3, 7, 12, 15), (1, 3, 5, 7, 19), (0, 8, 13, 16, 19), (1, 9, 10, 13, 15), (3, 5, 7, 9, 13), (1, 3, 7, 10, 15)]\n"
     ]
    }
   ],
   "source": [
    "object_library = ObjectLibrary(\n",
    "    num_objects_scene=5,\n",
    "    num_objects_total=20,\n",
    "    num_config_train=20,\n",
    "    num_config_eval=20,\n",
    "\n",
    "    scale_factor=16,\n",
    "    width=4,\n",
    "    height=4\n",
    ")"
   ],
   "metadata": {
    "collapsed": false,
    "pycharm": {
     "name": "#%%\n"
    }
   }
  },
  {
   "cell_type": "markdown",
   "source": [
    "# test env"
   ],
   "metadata": {
    "collapsed": false,
    "pycharm": {
     "name": "#%% md\n"
    }
   }
  },
  {
   "cell_type": "code",
   "execution_count": 32,
   "outputs": [],
   "source": [
    "from envs.block_pushing import BlockPushingObjectLibrary"
   ],
   "metadata": {
    "collapsed": false,
    "pycharm": {
     "name": "#%%\n"
    }
   }
  },
  {
   "cell_type": "code",
   "execution_count": 33,
   "outputs": [
    {
     "name": "stdout",
     "output_type": "stream",
     "text": [
      "> Extra kwargs: dict_keys(['scale_factor'])\n",
      "[#objects in scene] K = 5 [#objects in library] N = 20\n"
     ]
    }
   ],
   "source": [
    "env = BlockPushingObjectLibrary(\n",
    "    object_library=object_library,\n",
    "    mode='train',\n",
    "    num_objects_scene=5,\n",
    "    num_objects_total=20,\n",
    "    num_config_train=20,\n",
    "    num_config_eval=20,\n",
    "\n",
    "    scale_factor=16,\n",
    "    width=4,\n",
    "    height=4\n",
    ")"
   ],
   "metadata": {
    "collapsed": false,
    "pycharm": {
     "name": "#%%\n"
    }
   }
  },
  {
   "cell_type": "code",
   "execution_count": 35,
   "outputs": [
    {
     "name": "stdout",
     "output_type": "stream",
     "text": [
      "> id <-> positions: [0, 1, 2, 3, 4, 5, 6, 7, 8, 9, 10, 11, 12, 13, 14, 15, 16, 17, 18, 19] [(0, 0), (1, 0), (2, 0), (3, 0), (4, 0), (5, 0), (6, 0), (7, 0), (8, 0), (9, 0), (10, 0), (11, 0), (12, 0), (13, 0), (14, 0), (15, 0), (16, 0), (17, 0), (18, 0), (19, 0)]\n"
     ]
    },
    {
     "data": {
      "text/plain": "<matplotlib.image.AxesImage at 0x7f5544871090>"
     },
     "execution_count": 35,
     "metadata": {},
     "output_type": "execute_result"
    },
    {
     "data": {
      "text/plain": "<Figure size 432x288 with 1 Axes>",
      "image/png": "[encoded data removed]"
     },
     "metadata": {
      "needs_background": "light"
     },
     "output_type": "display_data"
    }
   ],
   "source": [
    "all_img = object_library.render_all('column')\n",
    "plt.imshow(all_img.transpose(1, 2, 0))"
   ],
   "metadata": {
    "collapsed": false,
    "pycharm": {
     "name": "#%%\n"
    }
   }
  },
  {
   "cell_type": "code",
   "execution_count": 34,
   "outputs": [
    {
     "data": {
      "text/plain": "<matplotlib.image.AxesImage at 0x7f554490a650>"
     },
     "execution_count": 34,
     "metadata": {},
     "output_type": "execute_result"
    },
    {
     "data": {
      "text/plain": "<Figure size 432x288 with 1 Axes>",
      "image/png": "[encoded data removed]"
     },
     "metadata": {
      "needs_background": "light"
     },
     "output_type": "display_data"
    }
   ],
   "source": [
    "%matplotlib inline\n",
    "obs = env.reset()\n",
    "plt.imshow(obs[1].transpose(1, 2, 0))"
   ],
   "metadata": {
    "collapsed": false,
    "pycharm": {
     "name": "#%%\n"
    }
   }
  },
  {
   "cell_type": "code",
   "execution_count": 15,
   "outputs": [
    {
     "name": "stdout",
     "output_type": "stream",
     "text": [
      "{'moved': True, 'action': 35, 'mapped-action': 35, 'unmapped-action': 3, 'object': 0, 'direction': 3, 'mapped-object': 8}\n"
     ]
    },
    {
     "data": {
      "text/plain": "<Figure size 432x288 with 1 Axes>",
      "image/png": "[encoded data removed]"
     },
     "metadata": {
      "needs_background": "light"
     },
     "output_type": "display_data"
    },
    {
     "name": "stdout",
     "output_type": "stream",
     "text": [
      "{'moved': True, 'action': 39, 'mapped-action': 39, 'unmapped-action': 7, 'object': 1, 'direction': 3, 'mapped-object': 9}\n"
     ]
    },
    {
     "data": {
      "text/plain": "<Figure size 432x288 with 1 Axes>",
      "image/png": "[encoded data removed]"
     },
     "metadata": {
      "needs_background": "light"
     },
     "output_type": "display_data"
    },
    {
     "name": "stdout",
     "output_type": "stream",
     "text": [
      "{'moved': True, 'action': 39, 'mapped-action': 39, 'unmapped-action': 7, 'object': 1, 'direction': 3, 'mapped-object': 9}\n"
     ]
    },
    {
     "data": {
      "text/plain": "<Figure size 432x288 with 1 Axes>",
      "image/png": "[encoded data removed]"
     },
     "metadata": {
      "needs_background": "light"
     },
     "output_type": "display_data"
    }
   ],
   "source": [
    "%matplotlib inline\n",
    "for _ in range(3):\n",
    "    obs, _, _, info = env.sample_step(filter_moving_prob=1.0)\n",
    "    print(info)\n",
    "\n",
    "    plt.imshow(obs[1].transpose(1, 2, 0))\n",
    "    plt.show()"
   ],
   "metadata": {
    "collapsed": false,
    "pycharm": {
     "name": "#%%\n"
    }
   }
  },
  {
   "cell_type": "markdown",
   "source": [
    "# test full env"
   ],
   "metadata": {
    "collapsed": false,
    "pycharm": {
     "name": "#%% md\n"
    }
   }
  },
  {
   "cell_type": "code",
   "execution_count": 16,
   "outputs": [
    {
     "name": "stdout",
     "output_type": "stream",
     "text": [
      "> Training/Eval config: [(0, 1), (1, 2), (1, 3)] [(2, 3), (0, 3), (0, 2)]\n",
      "> Training/Eval config: [(0, 1), (1, 2), (1, 3)] [(2, 3), (0, 3), (0, 2)]\n",
      "> Extra kwargs: dict_keys([])\n",
      "[#objects in scene] K = 2 [#objects in library] N = 4\n"
     ]
    }
   ],
   "source": [
    "object_library = ObjectLibrary(\n",
    "    num_objects_scene=2,\n",
    "    num_objects_total=4,\n",
    "    num_config_train=3,\n",
    "    num_config_eval=3,\n",
    ")\n",
    "\n",
    "env = BlockPushingObjectLibrary(\n",
    "    object_library=object_library,\n",
    "    mode='train',\n",
    "    num_objects_scene=2,\n",
    "    num_objects_total=4,\n",
    "    num_config_train=3,\n",
    "    num_config_eval=3,\n",
    "    check_collision=True, filter_collision=True,\n",
    ")"
   ],
   "metadata": {
    "collapsed": false,
    "pycharm": {
     "name": "#%%\n"
    }
   }
  },
  {
   "cell_type": "code",
   "execution_count": 17,
   "outputs": [
    {
     "data": {
      "text/plain": "<matplotlib.image.AxesImage at 0x7fb8fea7af50>"
     },
     "execution_count": 17,
     "metadata": {},
     "output_type": "execute_result"
    },
    {
     "data": {
      "text/plain": "<Figure size 432x288 with 1 Axes>",
      "image/png": "[encoded data removed]"
     },
     "metadata": {
      "needs_background": "light"
     },
     "output_type": "display_data"
    }
   ],
   "source": [
    "%matplotlib inline\n",
    "obs = env.reset()\n",
    "plt.imshow(obs[1].transpose(1, 2, 0))"
   ],
   "metadata": {
    "collapsed": false,
    "pycharm": {
     "name": "#%%\n"
    }
   }
  },
  {
   "cell_type": "code",
   "execution_count": 18,
   "outputs": [
    {
     "name": "stdout",
     "output_type": "stream",
     "text": [
      "{'moved': True, 'action': 6, 'mapped-action': 6, 'unmapped-action': 2, 'object': 0, 'direction': 2, 'mapped-object': 1}\n"
     ]
    },
    {
     "data": {
      "text/plain": "<Figure size 432x288 with 1 Axes>",
      "image/png": "[encoded data removed]"
     },
     "metadata": {
      "needs_background": "light"
     },
     "output_type": "display_data"
    },
    {
     "name": "stdout",
     "output_type": "stream",
     "text": [
      "{'moved': True, 'action': 11, 'mapped-action': 11, 'unmapped-action': 7, 'object': 1, 'direction': 3, 'mapped-object': 2}\n"
     ]
    },
    {
     "data": {
      "text/plain": "<Figure size 432x288 with 1 Axes>",
      "image/png": "[encoded data removed]"
     },
     "metadata": {
      "needs_background": "light"
     },
     "output_type": "display_data"
    },
    {
     "name": "stdout",
     "output_type": "stream",
     "text": [
      "{'moved': True, 'action': 11, 'mapped-action': 11, 'unmapped-action': 7, 'object': 1, 'direction': 3, 'mapped-object': 2}\n"
     ]
    },
    {
     "data": {
      "text/plain": "<Figure size 432x288 with 1 Axes>",
      "image/png": "[encoded data removed]"
     },
     "metadata": {
      "needs_background": "light"
     },
     "output_type": "display_data"
    }
   ],
   "source": [
    "%matplotlib inline\n",
    "for _ in range(3):\n",
    "    obs, _, _, info = env.sample_step(filter_moving_prob=1.0)\n",
    "    plt.imshow(obs[1].transpose(1, 2, 0))\n",
    "    print(info)\n",
    "    plt.show()"
   ],
   "metadata": {
    "collapsed": false,
    "pycharm": {
     "name": "#%%\n"
    }
   }
  },
  {
   "cell_type": "code",
   "execution_count": 19,
   "outputs": [
    {
     "data": {
      "text/plain": "<matplotlib.image.AxesImage at 0x7fb8fec35950>"
     },
     "execution_count": 19,
     "metadata": {},
     "output_type": "execute_result"
    },
    {
     "data": {
      "text/plain": "<Figure size 432x288 with 1 Axes>",
      "image/png": "[encoded data removed]"
     },
     "metadata": {
      "needs_background": "light"
     },
     "output_type": "display_data"
    }
   ],
   "source": [
    "%matplotlib inline\n",
    "obs = env.reset()\n",
    "plt.imshow(obs[1].transpose(1, 2, 0))"
   ],
   "metadata": {
    "collapsed": false,
    "pycharm": {
     "name": "#%%\n"
    }
   }
  },
  {
   "cell_type": "code",
   "execution_count": 20,
   "outputs": [
    {
     "name": "stdout",
     "output_type": "stream",
     "text": [
      "{'moved': True, 'action': 13, 'mapped-action': 13, 'unmapped-action': 5, 'object': 1, 'direction': 1, 'mapped-object': 3}\n"
     ]
    },
    {
     "data": {
      "text/plain": "<Figure size 432x288 with 1 Axes>",
      "image/png": "[encoded data removed]"
     },
     "metadata": {
      "needs_background": "light"
     },
     "output_type": "display_data"
    },
    {
     "name": "stdout",
     "output_type": "stream",
     "text": [
      "{'moved': True, 'action': 13, 'mapped-action': 13, 'unmapped-action': 5, 'object': 1, 'direction': 1, 'mapped-object': 3}\n"
     ]
    },
    {
     "data": {
      "text/plain": "<Figure size 432x288 with 1 Axes>",
      "image/png": "[encoded data removed]"
     },
     "metadata": {
      "needs_background": "light"
     },
     "output_type": "display_data"
    },
    {
     "name": "stdout",
     "output_type": "stream",
     "text": [
      "{'moved': True, 'action': 7, 'mapped-action': 7, 'unmapped-action': 3, 'object': 0, 'direction': 3, 'mapped-object': 1}\n"
     ]
    },
    {
     "data": {
      "text/plain": "<Figure size 432x288 with 1 Axes>",
      "image/png": "[encoded data removed]"
     },
     "metadata": {
      "needs_background": "light"
     },
     "output_type": "display_data"
    }
   ],
   "source": [
    "%matplotlib inline\n",
    "for _ in range(3):\n",
    "    obs, _, _, info = env.sample_step(filter_moving_prob=1.0)\n",
    "    plt.imshow(obs[1].transpose(1, 2, 0))\n",
    "    print(info)\n",
    "    plt.show()"
   ],
   "metadata": {
    "collapsed": false,
    "pycharm": {
     "name": "#%%\n"
    }
   }
  },
  {
   "cell_type": "markdown",
   "source": [
    "# eval"
   ],
   "metadata": {
    "collapsed": false,
    "pycharm": {
     "name": "#%% md\n"
    }
   }
  },
  {
   "cell_type": "code",
   "execution_count": null,
   "outputs": [],
   "source": [
    "env_eval = BlockPushingObjectLibrary(\n",
    "    object_library=object_library,\n",
    "    mode='eval',\n",
    "    num_objects_scene=2,\n",
    "    num_objects_total=4,\n",
    "    num_config_train=3,\n",
    "    num_config_eval=3,\n",
    "    check_collision=True, filter_collision=True,\n",
    ")"
   ],
   "metadata": {
    "collapsed": false,
    "pycharm": {
     "name": "#%%\n"
    }
   }
  },
  {
   "cell_type": "code",
   "execution_count": 77,
   "outputs": [
    {
     "data": {
      "text/plain": "<matplotlib.image.AxesImage at 0x7f87078a3f10>"
     },
     "execution_count": 77,
     "metadata": {},
     "output_type": "execute_result"
    },
    {
     "data": {
      "text/plain": "<Figure size 432x288 with 1 Axes>",
      "image/png": "[encoded data removed]"
     },
     "metadata": {
      "needs_background": "light"
     },
     "output_type": "display_data"
    }
   ],
   "source": [
    "%matplotlib inline\n",
    "obs = env_eval.reset()\n",
    "plt.imshow(obs[1].transpose(1, 2, 0))"
   ],
   "metadata": {
    "collapsed": false,
    "pycharm": {
     "name": "#%%\n"
    }
   }
  },
  {
   "cell_type": "markdown",
   "source": [
    "# render all"
   ],
   "metadata": {
    "collapsed": false,
    "pycharm": {
     "name": "#%% md\n"
    }
   }
  },
  {
   "cell_type": "code",
   "execution_count": 52,
   "outputs": [
    {
     "name": "stdout",
     "output_type": "stream",
     "text": [
      "> positions <-> id [0, 1, 2, 3] [(0, 0), (0, 1), (0, 2), (0, 3)]\n"
     ]
    }
   ],
   "source": [
    "image = env.object_library.render_all(pos='ordered')"
   ],
   "metadata": {
    "collapsed": false,
    "pycharm": {
     "name": "#%%\n"
    }
   }
  },
  {
   "cell_type": "code",
   "execution_count": 53,
   "outputs": [
    {
     "data": {
      "text/plain": "<matplotlib.image.AxesImage at 0x7fb8fc6d3910>"
     },
     "execution_count": 53,
     "metadata": {},
     "output_type": "execute_result"
    },
    {
     "data": {
      "text/plain": "<Figure size 432x288 with 1 Axes>",
      "image/png": "[encoded data removed]"
     },
     "metadata": {
      "needs_background": "light"
     },
     "output_type": "display_data"
    }
   ],
   "source": [
    "plt.imshow(image.transpose(1, 2, 0))"
   ],
   "metadata": {
    "collapsed": false,
    "pycharm": {
     "name": "#%%\n"
    }
   }
  },
  {
   "cell_type": "code",
   "execution_count": 49,
   "outputs": [],
   "source": [],
   "metadata": {
    "collapsed": false,
    "pycharm": {
     "name": "#%%\n"
    }
   }
  },
  {
   "cell_type": "code",
   "execution_count": null,
   "outputs": [],
   "source": [],
   "metadata": {
    "collapsed": false,
    "pycharm": {
     "name": "#%%\n"
    }
   }
  }
 ],
 "metadata": {
  "kernelspec": {
   "display_name": "Python 3",
   "language": "python",
   "name": "python3"
  },
  "language_info": {
   "codemirror_mode": {
    "name": "ipython",
    "version": 2
   },
   "file_extension": ".py",
   "mimetype": "text/x-python",
   "name": "python",
   "nbconvert_exporter": "python",
   "pygments_lexer": "ipython2",
   "version": "2.7.6"
  }
 },
 "nbformat": 4,
 "nbformat_minor": 0
}