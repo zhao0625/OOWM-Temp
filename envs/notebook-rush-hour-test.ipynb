{
 "cells": [
  {
   "cell_type": "code",
   "execution_count": 1,
   "metadata": {
    "collapsed": true
   },
   "outputs": [],
   "source": [
    "%load_ext autoreload\n",
    "%autoreload 2"
   ]
  },
  {
   "cell_type": "code",
   "execution_count": 2,
   "outputs": [
    {
     "data": {
      "text/plain": "'/mnt/Z-LabData-6T/zlf-nfs-hdd/projects/2020-OORL/ObjectOrientedRL/envs'"
     },
     "execution_count": 2,
     "metadata": {},
     "output_type": "execute_result"
    }
   ],
   "source": [
    "%pwd"
   ],
   "metadata": {
    "collapsed": false,
    "pycharm": {
     "name": "#%%\n"
    }
   }
  },
  {
   "cell_type": "code",
   "execution_count": 3,
   "outputs": [
    {
     "name": "stdout",
     "output_type": "stream",
     "text": [
      "/mnt/Z-LabData-6T/zlf-nfs-hdd/projects/2020-OORL/ObjectOrientedRL\n"
     ]
    }
   ],
   "source": [
    "%cd '/mnt/Z-LabData-6T/zlf-nfs-hdd/projects/2020-OORL/ObjectOrientedRL'"
   ],
   "metadata": {
    "collapsed": false,
    "pycharm": {
     "name": "#%%\n"
    }
   }
  },
  {
   "cell_type": "code",
   "execution_count": 4,
   "outputs": [],
   "source": [
    "import numpy as np"
   ],
   "metadata": {
    "collapsed": false,
    "pycharm": {
     "name": "#%%\n"
    }
   }
  },
  {
   "cell_type": "code",
   "execution_count": 5,
   "outputs": [],
   "source": [
    "from envs.block_pushing import ObjectPool, ObjectLibrary"
   ],
   "metadata": {
    "collapsed": false,
    "pycharm": {
     "name": "#%%\n"
    }
   }
  },
  {
   "cell_type": "code",
   "execution_count": 6,
   "outputs": [],
   "source": [
    "%matplotlib inline\n",
    "import matplotlib.pyplot as plt"
   ],
   "metadata": {
    "collapsed": false,
    "pycharm": {
     "name": "#%%\n"
    }
   }
  },
  {
   "cell_type": "code",
   "execution_count": 7,
   "outputs": [],
   "source": [
    "from block_pushing import BlockPushingWithLibrary"
   ],
   "metadata": {
    "collapsed": false,
    "pycharm": {
     "name": "#%%\n"
    }
   }
  },
  {
   "cell_type": "code",
   "execution_count": 8,
   "outputs": [
    {
     "name": "stdout",
     "output_type": "stream",
     "text": [
      "[#objects in scene] K = 2 [#objects in library] N = 4\n",
      "> Num of training config: 3, Num of eval config: 3\n",
      "> Num of all config: 6, Num of max possible config: 6.0\n",
      "> Training/Eval config: [(1, 2), (0, 1), (1, 3)] [(2, 3), (0, 3), (0, 2)]\n",
      "> Training/Eval config: [(1, 2), (0, 1), (1, 3)] [(2, 3), (0, 3), (0, 2)]\n"
     ]
    }
   ],
   "source": [
    "object_library_rush_hour = ObjectLibrary(\n",
    "    num_objects_scene=2,\n",
    "    num_objects_total=4,\n",
    "    num_config_train=3,\n",
    "    num_config_eval=3,\n",
    "    # shapes='all',\n",
    "    shapes='rush_hour',\n",
    ")"
   ],
   "metadata": {
    "collapsed": false,
    "pycharm": {
     "name": "#%%\n"
    }
   }
  },
  {
   "cell_type": "code",
   "execution_count": 9,
   "outputs": [
    {
     "name": "stdout",
     "output_type": "stream",
     "text": [
      "> Extra kwargs: dict_keys(['num_objects_scene', 'num_objects_total', 'num_config_train', 'num_config_eval'])\n"
     ]
    }
   ],
   "source": [
    "env_rh = BlockPushingWithLibrary(\n",
    "    object_library=object_library_rush_hour,\n",
    "    mode='train',\n",
    "    num_objects_scene=2,\n",
    "    num_objects_total=4,\n",
    "    num_config_train=3,\n",
    "    num_config_eval=3,\n",
    "    check_collision=True, filter_collision=True,\n",
    ")"
   ],
   "metadata": {
    "collapsed": false,
    "pycharm": {
     "name": "#%%\n"
    }
   }
  },
  {
   "cell_type": "code",
   "execution_count": 10,
   "outputs": [
    {
     "name": "stdout",
     "output_type": "stream",
     "text": [
      "{'moved': False, 'action': 0, 'mapped-action': 0, 'unmapped-action': 0, 'object': 0, 'mapped-object': 0, 'obj-action-id': 0, 'obj-action-str': 'up', 'abs-direction': 0, 'abs-direction-str': 'north'}\n"
     ]
    },
    {
     "data": {
      "text/plain": "<Figure size 432x288 with 1 Axes>",
      "image/png": "[encoded data removed]"
     },
     "metadata": {
      "needs_background": "light"
     },
     "output_type": "display_data"
    },
    {
     "name": "stdout",
     "output_type": "stream",
     "text": [
      "{'moved': True, 'action': 1, 'mapped-action': 1, 'unmapped-action': 1, 'object': 0, 'mapped-object': 0, 'obj-action-id': 1, 'obj-action-str': 'right', 'abs-direction': 1, 'abs-direction-str': 'east'}\n"
     ]
    },
    {
     "data": {
      "text/plain": "<Figure size 432x288 with 1 Axes>",
      "image/png": "[encoded data removed]"
     },
     "metadata": {
      "needs_background": "light"
     },
     "output_type": "display_data"
    },
    {
     "name": "stdout",
     "output_type": "stream",
     "text": [
      "{'moved': True, 'action': 2, 'mapped-action': 2, 'unmapped-action': 2, 'object': 0, 'mapped-object': 0, 'obj-action-id': 2, 'obj-action-str': 'down', 'abs-direction': 2, 'abs-direction-str': 'south'}\n"
     ]
    },
    {
     "data": {
      "text/plain": "<Figure size 432x288 with 1 Axes>",
      "image/png": "[encoded data removed]"
     },
     "metadata": {
      "needs_background": "light"
     },
     "output_type": "display_data"
    },
    {
     "name": "stdout",
     "output_type": "stream",
     "text": [
      "{'moved': True, 'action': 3, 'mapped-action': 3, 'unmapped-action': 3, 'object': 0, 'mapped-object': 0, 'obj-action-id': 3, 'obj-action-str': 'left', 'abs-direction': 3, 'abs-direction-str': 'west'}\n"
     ]
    },
    {
     "data": {
      "text/plain": "<Figure size 432x288 with 1 Axes>",
      "image/png": "[encoded data removed]"
     },
     "metadata": {
      "needs_background": "light"
     },
     "output_type": "display_data"
    },
    {
     "name": "stdout",
     "output_type": "stream",
     "text": [
      "{'moved': False, 'action': 7, 'mapped-action': 7, 'unmapped-action': 4, 'object': 1, 'mapped-object': 1, 'obj-action-id': 0, 'obj-action-str': 'up', 'abs-direction': 3, 'abs-direction-str': 'west'}\n"
     ]
    },
    {
     "data": {
      "text/plain": "<Figure size 432x288 with 1 Axes>",
      "image/png": "[encoded data removed]"
     },
     "metadata": {
      "needs_background": "light"
     },
     "output_type": "display_data"
    },
    {
     "name": "stdout",
     "output_type": "stream",
     "text": [
      "{'moved': False, 'action': 4, 'mapped-action': 4, 'unmapped-action': 5, 'object': 1, 'mapped-object': 1, 'obj-action-id': 1, 'obj-action-str': 'right', 'abs-direction': 0, 'abs-direction-str': 'north'}\n"
     ]
    },
    {
     "data": {
      "text/plain": "<Figure size 432x288 with 1 Axes>",
      "image/png": "[encoded data removed]"
     },
     "metadata": {
      "needs_background": "light"
     },
     "output_type": "display_data"
    },
    {
     "name": "stdout",
     "output_type": "stream",
     "text": [
      "{'moved': True, 'action': 5, 'mapped-action': 5, 'unmapped-action': 6, 'object': 1, 'mapped-object': 1, 'obj-action-id': 2, 'obj-action-str': 'down', 'abs-direction': 1, 'abs-direction-str': 'east'}\n"
     ]
    },
    {
     "data": {
      "text/plain": "<Figure size 432x288 with 1 Axes>",
      "image/png": "[encoded data removed]"
     },
     "metadata": {
      "needs_background": "light"
     },
     "output_type": "display_data"
    },
    {
     "name": "stdout",
     "output_type": "stream",
     "text": [
      "{'moved': True, 'action': 6, 'mapped-action': 6, 'unmapped-action': 7, 'object': 1, 'mapped-object': 1, 'obj-action-id': 3, 'obj-action-str': 'left', 'abs-direction': 2, 'abs-direction-str': 'south'}\n"
     ]
    },
    {
     "data": {
      "text/plain": "<Figure size 432x288 with 1 Axes>",
      "image/png": "[encoded data removed]"
     },
     "metadata": {
      "needs_background": "light"
     },
     "output_type": "display_data"
    }
   ],
   "source": [
    "%matplotlib inline\n",
    "for i in range(8):\n",
    "    # obs, _, _, info = env_rh.sample_step(filter_moving_prob=1.0)\n",
    "    obs, _, _, info = env_rh.step(i)\n",
    "    plt.imshow(obs[1].transpose(1, 2, 0))\n",
    "    print(info)\n",
    "    plt.show()"
   ],
   "metadata": {
    "collapsed": false,
    "pycharm": {
     "name": "#%%\n"
    }
   }
  },
  {
   "cell_type": "code",
   "execution_count": 11,
   "outputs": [
    {
     "name": "stdout",
     "output_type": "stream",
     "text": [
      "> id <-> positions: [0, 1, 2, 3] [(0, 0), (1, 0), (2, 0), (3, 0)]\n"
     ]
    },
    {
     "data": {
      "text/plain": "<matplotlib.image.AxesImage at 0x7fca498e0890>"
     },
     "execution_count": 11,
     "metadata": {},
     "output_type": "execute_result"
    },
    {
     "data": {
      "text/plain": "<Figure size 432x288 with 1 Axes>",
      "image/png": "[encoded data removed]"
     },
     "metadata": {
      "needs_background": "light"
     },
     "output_type": "display_data"
    }
   ],
   "source": [
    "%matplotlib inline\n",
    "plt.imshow(env_rh.object_library.render_all('column').transpose(1, 2, 0))"
   ],
   "metadata": {
    "collapsed": false,
    "pycharm": {
     "name": "#%%\n"
    }
   }
  },
  {
   "cell_type": "code",
   "execution_count": 12,
   "outputs": [
    {
     "data": {
      "text/plain": "{0: array([0, 1, 2, 3]),\n 1: array([3, 0, 1, 2]),\n 2: array([2, 3, 0, 1]),\n 3: array([1, 2, 3, 0])}"
     },
     "execution_count": 12,
     "metadata": {},
     "output_type": "execute_result"
    }
   ],
   "source": [
    "{o: np.roll(np.arange(4), shift=o) for o in range(4)}"
   ],
   "metadata": {
    "collapsed": false,
    "pycharm": {
     "name": "#%%\n"
    }
   }
  },
  {
   "cell_type": "code",
   "execution_count": 12,
   "outputs": [],
   "source": [],
   "metadata": {
    "collapsed": false,
    "pycharm": {
     "name": "#%%\n"
    }
   }
  }
 ],
 "metadata": {
  "kernelspec": {
   "name": "python374jvsc74a57bd00e0d7017aad9b6b901eae3db1fafc1f26fa297e3e58a468712c6b24cd6b4aee3",
   "language": "python",
   "display_name": "Python 3.7.4 64-bit ('base': conda)"
  },
  "language_info": {
   "codemirror_mode": {
    "name": "ipython",
    "version": 2
   },
   "file_extension": ".py",
   "mimetype": "text/x-python",
   "name": "python",
   "nbconvert_exporter": "python",
   "pygments_lexer": "ipython2",
   "version": "2.7.6"
  }
 },
 "nbformat": 4,
 "nbformat_minor": 0
}